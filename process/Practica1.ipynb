{
 "cells": [
  {
   "cell_type": "code",
   "execution_count": null,
   "id": "8d37861d",
   "metadata": {},
   "outputs": [],
   "source": [
    "from os import listdir\n",
    "from os.path import isfile, join\n",
    "#Para ver las palabras\n",
    "from collections import Counter\n",
    "import matplotlib.pyplot as plt\n",
    "from wordcloud import WordCloud\n",
    "# nltk\n",
    "import nltk\n",
    "nltk.download('punkt')\n",
    "nltk.download('stopwords')\n",
    "from nltk.corpus import stopwords #Listas de stopwords\n",
    "from nltk.tokenize import word_tokenize #Tokens\n",
    "import re #regex"
   ]
  },
  {
   "cell_type": "code",
   "execution_count": null,
   "id": "3988f739",
   "metadata": {},
   "outputs": [],
   "source": [
    "def get_txt(path):\n",
    "    \"\"\"\n",
    "    Regresa una lista con el contenido de todos los archivos de un directorio\n",
    "\n",
    "    Args:\n",
    "        path (str): ruta de la carpeta\n",
    "    \"\"\"\n",
    "    text = []\n",
    "    onlyfiles = [f for f in listdir(path) if isfile(join(path, f))]\n",
    "    \n",
    "    for file in onlyfiles:\n",
    "         with open(path+\"/\"+file, 'rb') as f:\n",
    "            text.append(f.read().decode('utf-8', 'replace'))\n",
    "    return text\n",
    "\n",
    "# Guardamos cada pelicula en un diccionario\n",
    "# cada entrada del diccionario es una lista con las peliculas leidas\n",
    "movies = {}\n",
    "movies[\"Pride & Prejudice\"] = get_txt(\"../corpus/Pride & Prejudice\")\n",
    "movies[\"Marvel\"] = get_txt(\"../corpus/Marvel\")\n",
    "movies[\"Christopher Nolan\"] = get_txt(\"../corpus/Christopher Nolan\")"
   ]
  },
  {
   "cell_type": "code",
   "execution_count": null,
   "id": "df20a34c",
   "metadata": {},
   "outputs": [],
   "source": [
    "def show_words(word):\n",
    "    '''\n",
    "    Usa la librería wordcloud para mostrar una gráfica\n",
    "    de las palabras más usadasen un corpus\n",
    "    '''\n",
    "    mycloud = WordCloud()\n",
    "    mycloud.generate_from_frequencies(Counter(word))\n",
    "\n",
    "    plt.figure(figsize=(8,6), dpi=120)\n",
    "    plt.imshow(mycloud)\n",
    "    plt.axis(\"off\")\n",
    "    plt.show()"
   ]
  },
  {
   "cell_type": "code",
   "execution_count": null,
   "id": "7b2f1287",
   "metadata": {},
   "outputs": [],
   "source": [
    "def get_tokens(name):\n",
    "    '''\n",
    "    Separa los textos de cada película en una entrada\n",
    "    del diccionario movies, usando la función word_tokenize\n",
    "    '''\n",
    "    corpus = []\n",
    "    for i, movie in enumerate(movies[name]):\n",
    "        movies[name][i] = word_tokenize(movie)\n",
    "        corpus += movies[name][i]\n",
    "    return corpus\n",
    "\n",
    "# Mezclamos los corpus de cada película según su autor\n",
    "marvel = get_tokens(\"Marvel\")\n",
    "nolan = get_tokens(\"Christopher Nolan\")\n",
    "pride = get_tokens(\"Pride & Prejudice\")"
   ]
  },
  {
   "cell_type": "code",
   "execution_count": null,
   "id": "42c22af6",
   "metadata": {},
   "outputs": [],
   "source": [
    "#Gráfica de palabras para la peli (texto sucio)\n",
    "show_words(pride) #dividir por palabras\n",
    "show_words(marvel)\n",
    "show_words(nolan)"
   ]
  },
  {
   "cell_type": "code",
   "execution_count": null,
   "id": "6d37d474",
   "metadata": {},
   "outputs": [],
   "source": [
    "num = len(pride) + len(marvel) + len(nolan)\n",
    "print(\"Número de tokens antes de limpiar el texto: \", num)\n",
    "num = len(set(pride + marvel + nolan))\n",
    "print(\"Número de tokens no repetidos (tipos): \", num)"
   ]
  },
  {
   "cell_type": "code",
   "execution_count": null,
   "id": "619e6e43",
   "metadata": {},
   "outputs": [],
   "source": [
    "# tokens que necesitan ser limpiados del corpus y que no\n",
    "# se encuentran en la lista de stopwords\n",
    "more = [\"'ve\", \"'ll\", \"'t\", \"'s\", \"'re\", \"'\", \"'m\", \"'d\", \"n't\", \"oh\", \"hey\", \"yeah\",\"okay\", \"mr.\", \"miss\", \"mrs.\"]\n",
    "stopwords_list = stopwords.words('english') + more\n",
    "\n",
    "def clean_corpus(corpus):\n",
    "    '''\n",
    "    Limpia el corpus recibido de stopwords\n",
    "    '''\n",
    "    clean = []\n",
    "    pattern = r'[^a-z0-9\\s]'\n",
    "    for w in corpus:\n",
    "        #quita stopwords y convierte a minúsculas\n",
    "        if w.lower() not in stopwords_list and re.sub(pattern,'', w) != '':\n",
    "            if  w == \"na\": #Para juntar gon na, wan na, etc.\n",
    "                clean[-1] += w\n",
    "            else:\n",
    "                clean.append(w)\n",
    "    return clean\n",
    "\n",
    "# Limpiamos los corpus de cada película\n",
    "movies[\"Pride & Prejudice\"] = clean_corpus(movies[\"Pride & Prejudice\"][0])\n",
    "movies[\"Marvel\"] = [clean_corpus(m) for m in movies[\"Marvel\"]]\n",
    "movies[\"Christopher Nolan\"] = [clean_corpus(m) for m in movies[\"Christopher Nolan\"]]"
   ]
  },
  {
   "cell_type": "code",
   "execution_count": null,
   "id": "a2b0111d",
   "metadata": {},
   "outputs": [],
   "source": [
    "def merge_movies(name):\n",
    "    '''\n",
    "    Mezcla el corpus de cada película en una entrada del\n",
    "    diccionario movies en un solo corpus\n",
    "    '''\n",
    "    corpus = []\n",
    "    for movie in movies[name]:\n",
    "        corpus += movie\n",
    "    return corpus\n",
    "\n",
    "# Mostramos la gráfica de palabras de los corpus limpios\n",
    "show_words(movies[\"Pride & Prejudice\"])\n",
    "show_words(merge_movies(\"Marvel\"))\n",
    "show_words(merge_movies(\"Christopher Nolan\"))"
   ]
  },
  {
   "cell_type": "markdown",
   "id": "e4747a02",
   "metadata": {},
   "source": [
    "# Algoritmo BPE"
   ]
  },
  {
   "cell_type": "code",
   "execution_count": null,
   "id": "eacbf94e",
   "metadata": {},
   "outputs": [],
   "source": [
    "def get_dic(corpus):\n",
    "    '''\n",
    "    Obtiene el diccionario del corpus dado\n",
    "    en formato palabra -> frecuencia\n",
    "    '''\n",
    "    # agregamos espacios a cada token\n",
    "    corpus = [' '.join(token) for token in corpus]\n",
    "\n",
    "    # Creamos el diccionario\n",
    "    return Counter(corpus)\n",
    "\n",
    "dic_prejudice = get_dic(movies['Pride & Prejudice'])\n",
    "dic_marvel = get_dic(merge_movies('Marvel'))\n",
    "dic_nolan = get_dic(merge_movies('Christopher Nolan'))"
   ]
  },
  {
   "cell_type": "code",
   "execution_count": null,
   "id": "12556af6",
   "metadata": {},
   "outputs": [],
   "source": [
    "def get_pairs(sigma):\n",
    "    '''\n",
    "    Obtiene los pares y su frecuencia dentro del diccionario\n",
    "    '''\n",
    "    pairs = {}\n",
    "    for word, freq in sigma.items():\n",
    "        chars = word.split()\n",
    "        for i in range(len(chars)-1):\n",
    "            # par!\n",
    "            aux = (chars[i], chars[1+i])\n",
    "            pairs[aux] = freq if aux not in pairs else pairs[aux] + freq\n",
    "\n",
    "    return pairs\n",
    "\n",
    "\n",
    "def merge_frequent(pair, dic):\n",
    "    '''\n",
    "    Sustituye el par recibido dentro del diccionario\n",
    "    '''\n",
    "\n",
    "    new_dic = {}\n",
    "    for word in dic:\n",
    "        #(a, b) -> 'ab'\n",
    "        new_word = word.replace(' '.join(pair), ''.join(pair))\n",
    "        # define un nuevo diccionario con el nuevo simbolo ab\n",
    "        new_dic[new_word] = dic[word]\n",
    "    \n",
    "    return new_dic\n",
    "        \n",
    "\n",
    "def BPE(epoch, dic):\n",
    "    '''\n",
    "    Algoritmo BPE\n",
    "\n",
    "    Args:\n",
    "        epoch (int): número de iteraciones que va a correr el algoritmo\n",
    "        dic (Counter): el diccionario parabra -> frecuencia\n",
    "    '''\n",
    "    new_dic = dic\n",
    "    for _ in range(epoch):\n",
    "        # Obtenemos los pares y sus frecuencias\n",
    "        pairs = get_pairs(new_dic)\n",
    "        try:\n",
    "            #Símbolo de mayor frecuencia\n",
    "            best = max(pairs, key=pairs.get)\n",
    "            # sustituimos 'a b' por 'ab' en el dicionario\n",
    "            new_dic = merge_frequent(best, new_dic)\n",
    "        except:\n",
    "            break\n",
    "    return new_dic"
   ]
  },
  {
   "cell_type": "code",
   "execution_count": null,
   "id": "dabf5517",
   "metadata": {},
   "outputs": [],
   "source": [
    "# Pruebas\n",
    "print(BPE(20, dic_prejudice))\n",
    "#print(BPE(10, dic_prejudice))\n",
    "#print(BPE(10, dic_prejudice))"
   ]
  },
  {
   "cell_type": "code",
   "execution_count": null,
   "id": "80f18d2d",
   "metadata": {},
   "outputs": [],
   "source": [
    "dic_nolan"
   ]
  }
 ],
 "metadata": {
  "kernelspec": {
   "display_name": "Python 3 (ipykernel)",
   "language": "python",
   "name": "python3"
  },
  "language_info": {
   "codemirror_mode": {
    "name": "ipython",
    "version": 3
   },
   "file_extension": ".py",
   "mimetype": "text/x-python",
   "name": "python",
   "nbconvert_exporter": "python",
   "pygments_lexer": "ipython3",
   "version": "3.10.4"
  }
 },
 "nbformat": 4,
 "nbformat_minor": 5
}
