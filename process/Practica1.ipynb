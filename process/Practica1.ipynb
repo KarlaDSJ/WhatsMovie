{
 "cells": [
  {
   "cell_type": "code",
   "execution_count": 39,
   "id": "8d37861d",
   "metadata": {},
   "outputs": [],
   "source": [
    "from os import listdir\n",
    "from os.path import isfile, join"
   ]
  },
  {
   "cell_type": "code",
   "execution_count": 43,
   "id": "3988f739",
   "metadata": {},
   "outputs": [],
   "source": [
    "def get_txt(path):\n",
    "    \"\"\"\n",
    "    Regresa una lista con el contenido de todos los archivos de un directorio\n",
    "\n",
    "    Args:\n",
    "        path (str): ruta de la carpeta\n",
    "    \"\"\"\n",
    "    text = []\n",
    "    onlyfiles = [f for f in listdir(path) if isfile(join(path, f))]\n",
    "    \n",
    "    for file in onlyfiles:\n",
    "         with open(path+\"/\"+file, 'rb') as f:\n",
    "            text.append(f.read().decode('utf-8', 'replace'))\n",
    "    return text\n",
    "\n",
    "movies = {}\n",
    "movies[\"Pride & Prejudice\"] = get_txt(\"../corpus/Pride & Prejudice\")\n",
    "movies[\"Marvel\"] = get_txt(\"../corpus/Marvel\")\n",
    "movies[\"Christopher Nolan\"] = get_txt(\"../corpus/Christopher Nolan\")"
   ]
  },
  {
   "cell_type": "code",
   "execution_count": null,
   "id": "c66e8cdb",
   "metadata": {},
   "outputs": [],
   "source": []
  }
 ],
 "metadata": {
  "kernelspec": {
   "display_name": "Python 3 (ipykernel)",
   "language": "python",
   "name": "python3"
  },
  "language_info": {
   "codemirror_mode": {
    "name": "ipython",
    "version": 3
   },
   "file_extension": ".py",
   "mimetype": "text/x-python",
   "name": "python",
   "nbconvert_exporter": "python",
   "pygments_lexer": "ipython3",
   "version": "3.10.4"
  }
 },
 "nbformat": 4,
 "nbformat_minor": 5
}
