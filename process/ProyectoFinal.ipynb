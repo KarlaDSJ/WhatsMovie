{
 "cells": [
  {
   "cell_type": "markdown",
   "metadata": {},
   "source": [
    "# Proyecto final"
   ]
  },
  {
   "cell_type": "code",
   "execution_count": null,
   "metadata": {},
   "outputs": [],
   "source": [
    "#Autores: Daniel Castillo, Karla Salas con ayuda del profesor Mijangos\n",
    "from os import listdir\n",
    "from os.path import isfile, join\n",
    "#Para ver las palabras\n",
    "from collections import Counter\n",
    "import matplotlib.pyplot as plt\n",
    "from sklearn.decomposition import PCA\n",
    "# nltk\n",
    "import nltk\n",
    "nltk.download('punkt')\n",
    "nltk.download('stopwords')\n",
    "from sklearn.model_selection import train_test_split #particiones\n",
    "from nltk.corpus import stopwords #Listas de stopwords\n",
    "from nltk.tokenize import word_tokenize, sent_tokenize #Tokens\n",
    "import re #regex\n",
    "from itertools import chain #bigramas\n",
    "import numpy as np\n",
    "from operator import itemgetter\n",
    "import pickle # Guardar objetos\n",
    "from tqdm import tqdm #Medir el progreso del entrenamiento"
   ]
  },
  {
   "cell_type": "markdown",
   "metadata": {},
   "source": [
    "Clase Bengio: para la red neuronal"
   ]
  },
  {
   "cell_type": "code",
   "execution_count": null,
   "metadata": {},
   "outputs": [],
   "source": [
    "class Bengio:\n",
    "    '''\n",
    "    Aplica la arquitectura de Bengios\n",
    "    \n",
    "    Args:\n",
    "        bigrams (list): Lista de bigramas por oración en el corpus\n",
    "        voc (dic): Diccionario de palabras con su índice asociado\n",
    "        dim (int): Unidades ocultas\n",
    "        nn_hdim (int): Unidades en la segunda capa\n",
    "    '''\n",
    "    def __init__(self, bigrams, voc, dim, nn_hdim):\n",
    "        np.random.seed(0)\n",
    "        self.bigrams = bigrams\n",
    "        self.voc = voc\n",
    "        # unidades de la capa oculta\n",
    "        self.dim = dim\n",
    "        # unidades de la segunda capa\n",
    "        self.nn_hdim = nn_hdim\n",
    "        N = len(voc)\n",
    "        #Embedding (este vector se guarda para la siguiente tarea)\n",
    "        self.C = np.random.randn(dim, N) / np.sqrt(N)\n",
    "        #U (a |V | × h matrix) - hidden-to-output weights\n",
    "        self.U = np.random.randn(nn_hdim, dim) / np.sqrt(dim)\n",
    "        self.b = np.zeros((1, self.nn_hdim)) #bias\n",
    "        # W (a |V | × (n − 1)m matrix) word features to output weights\n",
    "        self.W = np.random.randn(N, nn_hdim) / np.sqrt(nn_hdim)\n",
    "        self.c = np.zeros((1, N))\n",
    "    \n",
    "    def train(self, its, eta):\n",
    "        '''\n",
    "        Entrena la red de Bengios\n",
    "        Obtiene la probabilidad de transitar de una palabra a otra\n",
    "\n",
    "        Args:\n",
    "            its (int): Iteraciones\n",
    "            eta (int): radio de aprendizaje\n",
    "        '''\n",
    "        for i in tqdm(range(0,its)):\n",
    "            for ex in self.bigrams:\n",
    "                #Forward\n",
    "                f, a = self.forward(ex[0])\n",
    "                #Backward, pasos descritos en el paper\n",
    "                #Variable de salida, (a).1\n",
    "                d_out = f\n",
    "                d_out[ex[1]] -= 1\n",
    "                #Variable para la capa oculta\n",
    "                d_tanh = (1-a**2)*np.dot(self.W.T,d_out)\n",
    "                #Variable de embedding\n",
    "                d_emb = np.dot(self.U.T, d_tanh)\n",
    "                #Actualizacion de salida\n",
    "                self.W -= eta*np.outer(d_out,a)\n",
    "                #Actualiza bias de salida\n",
    "                self.c -= eta*d_out #[j]\n",
    "                #Actualizacion de capa oculta\n",
    "                self.U -= eta*np.outer(d_tanh,self.C.T[ex[0]])\n",
    "                #Actualiza bias\n",
    "                self.b -= eta*d_tanh\n",
    "                #Actualizacion de embedding\n",
    "                self.C.T[ex[0]] -= eta*d_emb\n",
    "\n",
    "    def forward(self, x): \n",
    "        '''\n",
    "        Etapa forward de la red \n",
    "        sirve para entrenar y evaluar el modelo\n",
    "\n",
    "        Args:\n",
    "            x (str): Palabra a calcular la probabilidad dado un contexto\n",
    "        '''\n",
    "        x = self.voc[x]\n",
    "        #Embedimiento\n",
    "        x = self.C.T[x] #x(k) ← C(wt−k)\n",
    "        #capa oculta\n",
    "        #a ← tanh(Hx + d)\n",
    "        a = np.tanh(np.dot(self.U, x) + self.b)[0]\n",
    "        #salida\n",
    "        # p_j ← e**(a.U + b_j) \n",
    "        # if (direct connections) e**(e**(a.U + b_j) + x.W_j)\n",
    "        out = np.exp(np.dot(self.W, a) + self.c)[0]\n",
    "        #Softmax\n",
    "        # Normalize the probabilities\n",
    "        self.p = out/out.sum(0)\n",
    "        return self.p, a\n",
    "\n",
    "    def plot_words(self, ids):\n",
    "        '''\n",
    "        Muestra los embedings utilizando PCA\n",
    "\n",
    "        Args:\n",
    "            ids (int): valor númerico de la palabra\n",
    "        '''\n",
    "        Z = PCA(2).fit_transform(self.C.T[:-2])\n",
    "        plt.figure(figsize=(10,6))\n",
    "        plt.scatter(Z[:,0],Z[:,1], marker='.')\n",
    "        for label,x,y in zip(ids, Z[:,0], Z[:,1]):\n",
    "            plt.annotate(label, xy=(x,y), xytext=(-1,1), \n",
    "                         textcoords='offset points', \n",
    "                         ha='center', va='bottom')\n",
    "        plt.show()\n",
    "\n",
    "    def prob_sentence(self, sentence):\n",
    "        '''\n",
    "        Obtenemos la probabilidad de la oración\n",
    "\n",
    "        Args:\n",
    "            sentence (list): lista de las palabras que componen la oración\n",
    "        '''\n",
    "        #Obtenemos los bigramas de la cadena de evaluacion\n",
    "        bigrams = list(zip(sentence,sentence[1:]))\n",
    "        p = 1\n",
    "        #Multiplicamos por las probabilidades de los bigramas dado el modelo\n",
    "        for gram1, gram2 in bigrams:\n",
    "            #Obtiene las probabilidades de transición\n",
    "            try:\n",
    "                prev_prob = self.forward(gram1)[0]\n",
    "            except:\n",
    "                prev_prob = self.forward('<oov>')[0]\n",
    "\n",
    "            try:\n",
    "                p *= prev_prob[gram2]\n",
    "            except:\n",
    "                p *= prev_prob['<oov>']\n",
    "                \n",
    "        return p \n",
    "\n",
    "    def get_entropy(self, test_data):\n",
    "        '''\n",
    "        Obtenemos la entropia promedio del modelo\n",
    "\n",
    "        Args:\n",
    "            test_data (list): conjunto de prueba tokenizado\n",
    "        '''\n",
    "        H = 0.0\n",
    "        # calculamos entropia como el promedio de las probabilidades de cada oración\n",
    "        for sentence in tqdm(test_data):\n",
    "            #Probabilidad de la cadena\n",
    "            p_cad = self.prob_sentence(sentence)\n",
    "            #Longitud de la cadena\n",
    "            M = len(sentence)\n",
    "            #Obtenemos la entropía cruzada de la cadena\n",
    "            if p_cad != 0:\n",
    "                H -= (1./M)*(np.log(p_cad)/np.log(2))\n",
    "\n",
    "        return H/len(test_data)\n",
    "    \n",
    "    def test(self, test):\n",
    "        '''\n",
    "        Probamos el modelo\n",
    "\n",
    "        Args:\n",
    "            test (list): conjunto de prueba tokenizado\n",
    "        '''\n",
    "        entropy = self.get_entropy(test)\n",
    "        perplexity = 2**entropy\n",
    "        return entropy, perplexity\n",
    "\n",
    "    def save_embedings(self, path):\n",
    "        '''\n",
    "        Guardamos en diccionario (palabra: embeding) en un\n",
    "        archivo\n",
    "\n",
    "        Args:\n",
    "            path (str): ruta para guardar el archivo\n",
    "        '''\n",
    "        embedings = {}\n",
    "        for word in self.voc.keys():\n",
    "            embedings[word] = self.C.T[self.voc[word]]\n",
    "\n",
    "        pickle.dump(embedings, open(path, 'wb'))\n",
    "\n",
    "    def save_model(self, path):\n",
    "        \"\"\"\n",
    "        Para guardar el modelo ya entrenado en un archivo\n",
    "\n",
    "        Args:\n",
    "            path (str): ruta para guardar el archivo\n",
    "        \"\"\"\n",
    "        pickle.dump(self, open(path, 'wb'))"
   ]
  },
  {
   "cell_type": "markdown",
   "metadata": {},
   "source": [
    "Obtenemos modelos"
   ]
  },
  {
   "cell_type": "code",
   "execution_count": null,
   "metadata": {},
   "outputs": [],
   "source": [
    "# Comprobamos que se guardó correctamente\n",
    "bengio_full = pickle.load(open('./modelAll/model.pkl', 'rb'))\n",
    "bengio_10 = pickle.load(open('./model10%/model.pkl', 'rb'))"
   ]
  },
  {
   "cell_type": "markdown",
   "metadata": {},
   "source": [
    "Funciones para generar palabras y cadenas"
   ]
  },
  {
   "cell_type": "code",
   "execution_count": null,
   "metadata": {},
   "outputs": [],
   "source": [
    "#Función para obtener las probabilidades ordenadas de mayor a menor\n",
    "def get_ordered_probs(word):\n",
    "    probs, a = bengio_full.forward(word)\n",
    "    dic_probs = dict(zip(bengio_full.voc.keys(), probs))\n",
    "    dic_probs.pop('<oov>')\n",
    "    return sorted(dic_probs.items(), key=itemgetter(1), reverse=True)\n",
    "\n",
    "#Función que genera una palabra siguiente\n",
    "def next_word(string):\n",
    "    #Obtener la última palabra en la historia\n",
    "    last_w = string.split()[-1]\n",
    "    #Obtener una palabra en base a la distribución\n",
    "    selection = np.random.choice(range(4), 1, p=None)[0]\n",
    "    print(selection)\n",
    "    max_w = get_ordered_probs(last_w)[selection]\n",
    "    #max_w = get_ordered_probs(last_w)[0]\n",
    "    \n",
    "    return max_w[0]\n",
    "\n",
    "more = [\"_\",\"-\",\"'ve\", \"'ll\", \"'t\", \"'s\", \"'re\", \"'\", \"'m\", \"'d\", \"n't\", \"oh\", \"hey\", \"yeah\",\"okay\", \"mr.\", \"miss\", \"mrs.\"]\n",
    "stopwords_list = stopwords.words('english') + more\n",
    "\n",
    "def get_query_clean(text):\n",
    "    '''\n",
    "    Genera los tokens de una cadena y los limpia\n",
    "    (quita símbolos raros y stopwords)\n",
    "    \n",
    "    Args:\n",
    "        text (str): cadena\n",
    "    '''\n",
    "    tokens = word_tokenize(text)\n",
    "    clean = []\n",
    "    pattern = r'[^a-z0-9\\s]'\n",
    "    for w in tokens:\n",
    "        #quita stopwords y convierte a minúsculas\n",
    "        w = re.sub(pattern,'', w.lower())\n",
    "        if w not in stopwords_list and w != '':\n",
    "            if  w == \"na\": #Para juntar gon na, wan na, etc.\n",
    "                clean[-1] += w\n",
    "            else:\n",
    "                clean.append(w)\n",
    "\n",
    "    return clean\n",
    "\n",
    "#Función que genera cadena\n",
    "def generate(string):\n",
    "    # limpiamos entrada\n",
    "    string = ' '.join(get_query_clean(string))\n",
    "    #Guarda la palabra predicha\n",
    "    w = ''\n",
    "    #Guarda la cadena que se ha generado\n",
    "    str_gen = string\n",
    "    #El método se detiene al ver <EOS>\n",
    "    t = 0\n",
    "    while w != '<EOS>':\n",
    "        #Predice la siguiente palabra\n",
    "        w = next_word(str_gen)\n",
    "        #Agrega esa palabra a ala cadena\n",
    "        str_gen += ' ' + w\n",
    "        t += 1\n",
    "        if t == 10:\n",
    "            w = '<EOS>'\n",
    "    \n",
    "    str_gen = str_gen.replace('<BOS>', '. ')\n",
    "    #Regresa la cadena si el símbolo EOS\n",
    "    return str_gen[:len(str_gen)]"
   ]
  },
  {
   "cell_type": "markdown",
   "metadata": {},
   "source": [
    "A probar"
   ]
  },
  {
   "cell_type": "code",
   "execution_count": null,
   "metadata": {},
   "outputs": [],
   "source": [
    "generate('Stephen Strange')"
   ]
  },
  {
   "cell_type": "markdown",
   "metadata": {},
   "source": [
    "Ahora usaremos una red usando Tensorflow"
   ]
  },
  {
   "cell_type": "code",
   "execution_count": null,
   "metadata": {},
   "outputs": [],
   "source": [
    "import os\n",
    "os.environ['TF_CPP_MIN_LOG_LEVEL'] = '3' # Disable tensorflow debugging logs\n",
    "import tensorflow as tf\n",
    "import tensorflow_text as tf_text\n",
    "from tensorflow.keras import layers\n",
    "\n",
    "AUTOTUNE = tf.data.experimental.AUTOTUNE"
   ]
  },
  {
   "cell_type": "code",
   "execution_count": null,
   "metadata": {},
   "outputs": [],
   "source": [
    "def get_txt(path):\n",
    "    \"\"\"\n",
    "    Regresa una lista con el contenido de todos los archivos de un directorio\n",
    "\n",
    "    Args:\n",
    "        path (str): ruta de la carpeta\n",
    "    \"\"\"\n",
    "    text = ''\n",
    "    onlyfiles = [f for f in listdir(path) if isfile(join(path, f))]\n",
    "    for file in onlyfiles:\n",
    "        with open(path+\"/\"+file, 'rb') as f:\n",
    "            text += f.read().decode('utf-8').lower()\n",
    "    return text\n",
    "\n",
    "# Guardamos cada película en un diccionario\n",
    "# cada entrada del diccionario es una lista con las peliculas leídas\n",
    "corpus = ''\n",
    "corpus += get_txt(\"../corpus/Pride & Prejudice\")\n",
    "corpus += get_txt(\"../corpus/Marvel\")\n",
    "corpus += get_txt(\"../corpus/Christopher Nolan\")"
   ]
  },
  {
   "cell_type": "code",
   "execution_count": null,
   "metadata": {},
   "outputs": [],
   "source": [
    "corpus = pickle.load(open('./corpus.pkl', 'rb'))\n",
    "corpus = [x for s in corpus for x in s]\n",
    "corpus = ' '.join(corpus)\n",
    "corpus"
   ]
  },
  {
   "cell_type": "code",
   "execution_count": null,
   "metadata": {},
   "outputs": [],
   "source": [
    "tokenizer = tf_text.UnicodeScriptTokenizer()\n",
    "movies_tokens =  tokenizer.tokenize([corpus]).to_list()[0]\n",
    "movies_tokens[:10]"
   ]
  },
  {
   "cell_type": "code",
   "execution_count": null,
   "metadata": {},
   "outputs": [],
   "source": [
    "words_ds = tf.data.Dataset.from_tensor_slices(movies_tokens)"
   ]
  },
  {
   "cell_type": "code",
   "execution_count": null,
   "metadata": {},
   "outputs": [],
   "source": [
    "for words in words_ds.take(20):\n",
    "    print(words.numpy())"
   ]
  },
  {
   "cell_type": "code",
   "execution_count": null,
   "metadata": {},
   "outputs": [],
   "source": [
    "seq_length = 50\n",
    "words_batches = words_ds.batch(seq_length+1, \n",
    "                               drop_remainder=True)\n",
    "\n",
    "for words in words_batches.take(1):\n",
    "    print(words.numpy())"
   ]
  },
  {
   "cell_type": "code",
   "execution_count": null,
   "metadata": {},
   "outputs": [],
   "source": [
    "def join_strings(tokens):\n",
    "    return tf.strings.reduce_join(tokens, axis=0, separator=' ')"
   ]
  },
  {
   "cell_type": "code",
   "execution_count": null,
   "metadata": {},
   "outputs": [],
   "source": [
    "raw_train_ds = words_batches.map(join_strings)\n",
    "batch_size = 32\n",
    "BUFFER_SIZE = len(raw_train_ds)\n",
    "\n",
    "raw_train_ds = (\n",
    "    raw_train_ds\n",
    "    .shuffle(BUFFER_SIZE)\n",
    "    .batch(batch_size, drop_remainder=True)\n",
    "    .prefetch(tf.data.experimental.AUTOTUNE))"
   ]
  },
  {
   "cell_type": "code",
   "execution_count": null,
   "metadata": {},
   "outputs": [],
   "source": [
    "for batch in raw_train_ds.take(1):\n",
    "    print(batch)"
   ]
  },
  {
   "cell_type": "code",
   "execution_count": null,
   "metadata": {},
   "outputs": [],
   "source": [
    "voc_size = len(list(set(movies_tokens)))\n",
    "print(voc_size)\n"
   ]
  },
  {
   "cell_type": "code",
   "execution_count": null,
   "metadata": {},
   "outputs": [],
   "source": [
    "voc_size = 11994\n",
    "\n",
    "vectorize_layer = layers.TextVectorization(\n",
    "    standardize=None,\n",
    "    max_tokens=voc_size - 1,\n",
    "    output_mode='int',\n",
    "    output_sequence_length=seq_length + 1,\n",
    "    #split='character'\n",
    ")\n",
    "\n",
    "vectorize_layer.adapt(raw_train_ds)\n",
    "vocab = vectorize_layer.get_vocabulary()\n",
    "len(vocab)"
   ]
  },
  {
   "cell_type": "code",
   "execution_count": null,
   "metadata": {},
   "outputs": [],
   "source": [
    "vectorize_layer(['Love you', '3 millions'])"
   ]
  },
  {
   "cell_type": "code",
   "execution_count": null,
   "metadata": {},
   "outputs": [],
   "source": [
    "def get_input_target(text):\n",
    "    tokenized_text = vectorize_layer(text)\n",
    "    input_text = tokenized_text[:, :-1]\n",
    "    target_text = tokenized_text[:, 1:]\n",
    "    return input_text, target_text"
   ]
  },
  {
   "cell_type": "code",
   "execution_count": null,
   "metadata": {},
   "outputs": [],
   "source": [
    "train_ds = raw_train_ds.map(get_input_target)"
   ]
  },
  {
   "cell_type": "code",
   "execution_count": null,
   "metadata": {},
   "outputs": [],
   "source": [
    "for input_batch, target_batch in train_ds.take(1):\n",
    "    print(input_batch.shape, target_batch.shape)\n",
    "    print(input_batch[0], target_batch[0])"
   ]
  },
  {
   "cell_type": "markdown",
   "metadata": {},
   "source": [
    "Definir modelo"
   ]
  },
  {
   "cell_type": "code",
   "execution_count": null,
   "metadata": {},
   "outputs": [],
   "source": [
    "emb_dim = 256\n",
    "model_dim = 1024"
   ]
  },
  {
   "cell_type": "code",
   "execution_count": null,
   "metadata": {},
   "outputs": [],
   "source": [
    "class RNN(tf.keras.Model):\n",
    "    def __init__(self, voc_size, emb_dim, model_dim):\n",
    "        super().__init__(self)\n",
    "        self.embedding = layers.Embedding(voc_size, emb_dim)\n",
    "        self.gru = layers.GRU(model_dim,\n",
    "                              return_sequences=True,\n",
    "                              return_state=True)\n",
    "        self.logits = layers.Dense(voc_size)\n",
    "\n",
    "    def call(self, inputs, states=None, return_state=False, training=False):\n",
    "        x = inputs\n",
    "        x = self.embedding(x, training=training)\n",
    "        if states is None:\n",
    "            states = self.gru.get_initial_state(x)\n",
    "        x, states = self.gru(x, initial_state=states, training=training)\n",
    "        x = self.logits(x, training=training)\n",
    "\n",
    "        if return_state:\n",
    "            return x, states\n",
    "        else:\n",
    "            return x \n",
    "\n",
    "model = RNN(voc_size=voc_size,\n",
    "            emb_dim=emb_dim,\n",
    "            model_dim=model_dim)"
   ]
  },
  {
   "cell_type": "code",
   "execution_count": null,
   "metadata": {},
   "outputs": [],
   "source": [
    "for input_batch, target_batch in train_ds.take(1):\n",
    "    predictions = model(target_batch)\n",
    "    print(predictions.shape, target_batch.shape)"
   ]
  },
  {
   "cell_type": "code",
   "execution_count": null,
   "metadata": {},
   "outputs": [],
   "source": [
    "model.summary()"
   ]
  },
  {
   "cell_type": "code",
   "execution_count": null,
   "metadata": {},
   "outputs": [],
   "source": [
    "predictions[0].shape"
   ]
  },
  {
   "cell_type": "code",
   "execution_count": null,
   "metadata": {},
   "outputs": [],
   "source": [
    "pred_indices = tf.random.categorical(predictions[0], num_samples=1)\n",
    "pred_indices[:, 0]"
   ]
  },
  {
   "cell_type": "markdown",
   "metadata": {},
   "source": [
    "Obtener palabras a travez de indices con vocab"
   ]
  },
  {
   "cell_type": "code",
   "execution_count": null,
   "metadata": {},
   "outputs": [],
   "source": [
    "' '.join([vocab[_] for _ in input_batch[0]])"
   ]
  },
  {
   "cell_type": "code",
   "execution_count": null,
   "metadata": {},
   "outputs": [],
   "source": [
    "' '.join([vocab[_] for _ in pred_indices[:, 0]])"
   ]
  },
  {
   "cell_type": "markdown",
   "metadata": {},
   "source": [
    "# Entrenamiento"
   ]
  },
  {
   "cell_type": "code",
   "execution_count": null,
   "metadata": {},
   "outputs": [],
   "source": [
    "loss = tf.losses.SparseCategoricalCrossentropy(from_logits=True)\n",
    "opt = tf.keras.optimizers.Adam(learning_rate=0.0001)\n",
    "loss_metric = tf.keras.metrics.Mean(name='loss')"
   ]
  },
  {
   "cell_type": "code",
   "execution_count": null,
   "metadata": {},
   "outputs": [],
   "source": [
    "@tf.function\n",
    "def train_step(input_batch, target_batch):\n",
    "    with tf.GradientTape() as tape:\n",
    "        logits = model(input_batch, training=True)\n",
    "        loss_value = loss(target_batch, logits)\n",
    "\n",
    "    gradients = tape.gradient(loss_value, model.trainable_weights)\n",
    "    opt.apply_gradients(zip(gradients, model.trainable_weights))\n",
    "    loss_metric(loss_value)"
   ]
  },
  {
   "cell_type": "code",
   "execution_count": null,
   "metadata": {},
   "outputs": [],
   "source": [
    "epochs = 1"
   ]
  },
  {
   "cell_type": "code",
   "execution_count": null,
   "metadata": {},
   "outputs": [],
   "source": [
    "for epoch in range(epochs):\n",
    "    for input_batch, target_batch in train_ds:\n",
    "        train_step(input_batch, target_batch)\n",
    "        \n",
    "    print(f'Epoch: {epoch} Loss: {loss_metric.result().numpy()}')\n",
    "    loss_metric.reset_states()"
   ]
  },
  {
   "cell_type": "markdown",
   "metadata": {},
   "source": [
    "# Guardamos el modelo"
   ]
  },
  {
   "cell_type": "code",
   "execution_count": null,
   "metadata": {},
   "outputs": [],
   "source": [
    "super(model.__class__, model).save('./modelTensor/model_intent1.h5')"
   ]
  },
  {
   "cell_type": "code",
   "execution_count": null,
   "metadata": {},
   "outputs": [],
   "source": [
    "model2 = tf.keras.models.load_model('./modelTensor/model_intent1')"
   ]
  },
  {
   "cell_type": "markdown",
   "metadata": {},
   "source": [
    "#Generación"
   ]
  },
  {
   "cell_type": "code",
   "execution_count": null,
   "metadata": {},
   "outputs": [],
   "source": [
    "states = None\n",
    "start = 'tony stark'\n",
    "context = tf.constant([start])\n",
    "output = [start]\n",
    "\n",
    "for i in range(50):\n",
    "    #print(vectorize_layer(context)[:, :1])\n",
    "    # Obtener solo el primer elemento que regresa vectorize_layer\n",
    "    pred_logits, states = model(vectorize_layer(context)[:, :1], \n",
    "                                states=states, return_state=True)\n",
    "    #print(pred_logits.shape)\n",
    "    pred_index = tf.random.categorical(pred_logits[:, -1, :], \n",
    "                                       num_samples=1)\n",
    "\n",
    "    #print(vocab[pred_index[0, 0]])\n",
    "    context = tf.constant([vocab[pred_index[0, 0]]])\n",
    "    output.append(vocab[pred_index[0, 0]])\n",
    "    \n",
    "' '.join(output)"
   ]
  }
 ],
 "metadata": {
  "interpreter": {
   "hash": "602bbe8e8fe3127dc2d2bb8f57c49cfbb507be2cc0e090f10eb4c4d0af354b8b"
  },
  "kernelspec": {
   "display_name": "Python 3.10.4 64-bit (windows store)",
   "language": "python",
   "name": "python3"
  },
  "language_info": {
   "codemirror_mode": {
    "name": "ipython",
    "version": 3
   },
   "file_extension": ".py",
   "mimetype": "text/x-python",
   "name": "python",
   "nbconvert_exporter": "python",
   "pygments_lexer": "ipython3",
   "version": "3.10.4"
  },
  "orig_nbformat": 4
 },
 "nbformat": 4,
 "nbformat_minor": 2
}
