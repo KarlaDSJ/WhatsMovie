{
 "cells": [
  {
   "cell_type": "markdown",
   "metadata": {},
   "source": [
    "## Evaluación de los modelos para generar lenguaje\n",
    "\n",
    "Para probar el entrenamiento de cada modelo  utilizamos el conjunto de prueba de la siguiente manera: cada oración que lo conforma es dividida a la mitad, se le pasa al modelo la primera mitad y es concatenada con la respuesta, por último se compara la oración original con la que acabamos de crear para ver que tanto cambiaron, claro que esto tiene un problema existen dialogos que únicamente tienen una palabra, en estos casos en realidad no tenemos con que comprar (cosa que se modifica para la red seq to seq)\n",
    "\n",
    "Lo anterior aplica para el modelo de Bengio y RNN, para el último modelo el corpus de prueba es distinto, la idea es la misma pero aquí si tenemos la oración que siguiente\n",
    "\n",
    "Inicialmente pensamos en utilizar la métrica de Levenshtein, pues esta nos diría qué tan distantes son las oraciones verificando los símbolos en ellas, pero esto puede calificar mal inicios de oraciones como \"como estás\" y \"como te fue\", aunque ambas son respuestas válidas, sin embargo nuestro corpus también contiene combinaciones de palabras específicas, como \"si señor\", \"Torre Stark\" y \"Dr Strange\", lo que sería calificado positivamente."
   ]
  },
  {
   "cell_type": "code",
   "execution_count": 1,
   "metadata": {},
   "outputs": [],
   "source": [
    "import pickle\n",
    "import matplotlib.pyplot as plt\n",
    "import numpy as np"
   ]
  },
  {
   "cell_type": "code",
   "execution_count": 2,
   "metadata": {},
   "outputs": [],
   "source": [
    "def get_bigrams(sentence):\n",
    "    \"\"\"\n",
    "    Genera bigramas dada una cadena\n",
    "    \"\"\"\n",
    "    words = sentence.split(' ')\n",
    "    return list(zip(words,words[1:]))\n",
    "\n",
    "def evaluate(s1, s2):\n",
    "    \"\"\"\n",
    "    Evalua que tan diferentes son 2 cadenas\n",
    "    Primero compara si alguna es sub cadena de otra,\n",
    "    si eso no pasa evalua si existen digramas compartidos\n",
    "    y hace un promedio para asignarle un valor entre 0 - 1\n",
    "    donde 0 indica que las cadenas no s eparecen en nada \n",
    "    1 que son subcadenas\n",
    "    \"\"\"\n",
    "    # Si una es subcadena de la otra, damos la calificacion mas alta: 1\n",
    "    if s1 in s2 or s2 in s1:\n",
    "        return 1\n",
    "    # Ahora intentamos con pares\n",
    "    bigrams = get_bigrams(s1)\n",
    "    if len(bigrams) == 0:\n",
    "        return 0\n",
    "    num_bigrams_in = 0\n",
    "    for bigram in bigrams:\n",
    "        if ' '.join(bigram) in s2:\n",
    "            num_bigrams_in += 1\n",
    "    return num_bigrams_in / len(bigrams)"
   ]
  },
  {
   "cell_type": "code",
   "execution_count": 3,
   "metadata": {},
   "outputs": [
    {
     "data": {
      "text/plain": [
       "0.4"
      ]
     },
     "execution_count": 3,
     "metadata": {},
     "output_type": "execute_result"
    }
   ],
   "source": [
    "evaluate('Tony stark, que tal tu dia?', 'Tony stark, que me cuentas?')"
   ]
  },
  {
   "cell_type": "markdown",
   "metadata": {},
   "source": [
    "Cargamos los modelos y el conjunto de prueba"
   ]
  },
  {
   "cell_type": "code",
   "execution_count": 4,
   "metadata": {},
   "outputs": [],
   "source": [
    "test = pickle.load(open('./pickles/datasets/test.pkl','rb'))\n",
    "predict_rnn = pickle.load(open('./pickles/predict/rnn.pkl','rb'))\n",
    "predict_bengio = pickle.load(open('./pickles/predict/bengio.pkl','rb'))"
   ]
  },
  {
   "cell_type": "code",
   "execution_count": 5,
   "metadata": {},
   "outputs": [],
   "source": [
    "predict_rnn.insert(2, '')"
   ]
  },
  {
   "cell_type": "code",
   "execution_count": 6,
   "metadata": {},
   "outputs": [],
   "source": [
    "def plot_evals(test, predict):\n",
    "    evals = []\n",
    "    limit = len(test)\n",
    "    newlimit = 0\n",
    "    try:\n",
    "        for i in range(limit - 1):\n",
    "            evals.append(evaluate(test[i], predict[i]))\n",
    "            newlimit = i\n",
    "    except Exception:\n",
    "        pass\n",
    "\n",
    "    xpoints = np.arange(0, newlimit+1, 1, dtype=int)\n",
    "    ypoints = np.array(evals)\n",
    "\n",
    "    plt.plot(xpoints, ypoints)\n",
    "    plt.show()\n",
    "\n",
    "    return evals"
   ]
  },
  {
   "cell_type": "code",
   "execution_count": 7,
   "metadata": {},
   "outputs": [
    {
     "data": {
      "image/png": "[encoded data removed]",
      "text/plain": [
       "<Figure size 432x288 with 1 Axes>"
      ]
     },
     "metadata": {
      "needs_background": "light"
     },
     "output_type": "display_data"
    }
   ],
   "source": [
    "rnn_evals = plot_evals(test, predict_rnn)"
   ]
  },
  {
   "cell_type": "code",
   "execution_count": 8,
   "metadata": {},
   "outputs": [
    {
     "data": {
      "image/png": "[encoded data removed]",
      "text/plain": [
       "<Figure size 432x288 with 1 Axes>"
      ]
     },
     "metadata": {
      "needs_background": "light"
     },
     "output_type": "display_data"
    }
   ],
   "source": [
    "bengio_evals = plot_evals(test, predict_bengio)"
   ]
  },
  {
   "cell_type": "code",
   "execution_count": 9,
   "metadata": {},
   "outputs": [
    {
     "name": "stdout",
     "output_type": "stream",
     "text": [
      "thats the least of your problems.\n",
      "thats least sir indeed said elizabeth really weird dream fill subconscious grunts\n"
     ]
    }
   ],
   "source": [
    "for i, score in enumerate(bengio_evals):\n",
    "    if score != 1 and len(test[i].split(' ')) > 1:\n",
    "        print(test[i])\n",
    "        print(predict_bengio[i])\n",
    "        break"
   ]
  },
  {
   "cell_type": "markdown",
   "metadata": {},
   "source": [
    "Además recordemos que en la práctica 2 se hace el  análisis para la red de Bengio dando los siguientes resultados:\n",
    "\n",
    "*Para el entrenamiento con el 10% de las palabras tenemos:*\n",
    "\n",
    "Entropy: 9.29426577135724\n",
    "\n",
    "Perplexity: 627.845498555216\n",
    "\n",
    "\n",
    "*Para el entrenamiento con todo el corpus:*\n",
    "\n",
    "Entropy: 12.874982418175305\n",
    "\n",
    "Perplexity: 7512.005574123771\n",
    "\n"
   ]
  }
 ],
 "metadata": {
  "interpreter": {
   "hash": "916dbcbb3f70747c44a77c7bcd40155683ae19c65e1c03b4aa3499c5328201f1"
  },
  "kernelspec": {
   "display_name": "Python 3.8.10 64-bit",
   "language": "python",
   "name": "python3"
  },
  "language_info": {
   "codemirror_mode": {
    "name": "ipython",
    "version": 3
   },
   "file_extension": ".py",
   "mimetype": "text/x-python",
   "name": "python",
   "nbconvert_exporter": "python",
   "pygments_lexer": "ipython3",
   "version": "3.8.10"
  },
  "orig_nbformat": 4
 },
 "nbformat": 4,
 "nbformat_minor": 2
}
