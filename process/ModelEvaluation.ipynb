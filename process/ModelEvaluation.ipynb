{
 "cells": [
  {
   "cell_type": "code",
   "execution_count": null,
   "metadata": {},
   "outputs": [],
   "source": [
    "import pickle\n",
    "import matplotlib.pyplot as plt\n",
    "import numpy as np"
   ]
  },
  {
   "cell_type": "markdown",
   "metadata": {},
   "source": [
    "# Evaluacion de los modelos Bengio y RNN"
   ]
  },
  {
   "cell_type": "markdown",
   "metadata": {},
   "source": [
    "Usamos distancia de Levenshtein como métrica"
   ]
  },
  {
   "cell_type": "code",
   "execution_count": null,
   "metadata": {},
   "outputs": [],
   "source": [
    "def get_bigrams(sentence):\n",
    "    words = sentence.split(' ')\n",
    "    return list(zip(words,words[1:]))\n",
    "\n",
    "def evaluate(s1, s2):\n",
    "    # Si una es subcadena de la otra, damos la calificacion mas alta: 1\n",
    "    if s1 in s2 or s2 in s1:\n",
    "        return 1\n",
    "    # Ahora intentamos con pares\n",
    "    bigrams = get_bigrams(s1)\n",
    "    if len(bigrams) == 0:\n",
    "        return 0\n",
    "    num_bigrams_in = 0\n",
    "    for bigram in bigrams:\n",
    "        if ' '.join(bigram) in s2:\n",
    "            num_bigrams_in += 1\n",
    "    return num_bigrams_in / len(bigrams)"
   ]
  },
  {
   "cell_type": "code",
   "execution_count": null,
   "metadata": {},
   "outputs": [],
   "source": [
    "evaluate('Tony stark, que tal tu dia?', 'Tony stark, que me cuentas?')"
   ]
  },
  {
   "cell_type": "markdown",
   "metadata": {},
   "source": [
    "# Evaluacion"
   ]
  },
  {
   "cell_type": "markdown",
   "metadata": {},
   "source": [
    "LA métrica de Levenshtein nos dirá qué tan distante son las oraciones generadas a partir de la mitad de las oraciones de prueba con las oraciones en si. Esto puede calificar mal inicios de oraciones como \"como estás\" y \"como te fue\" aunque ambas son respuestas válidas, pero nuestro corpus también contiene combinaciones de palabras específicas, como \"si señor\", \"Torre Stark\" y \"Dr Strange\", lo cual va a ser calificado positivamente."
   ]
  },
  {
   "cell_type": "code",
   "execution_count": null,
   "metadata": {},
   "outputs": [],
   "source": [
    "test = pickle.load(open('./pickles/datasets/test.pkl','rb'))\n",
    "predict_rnn = pickle.load(open('./pickles/predict/rnn.pkl','rb'))\n",
    "predict_bengio = pickle.load(open('./pickles/predict/bengio.pkl','rb'))"
   ]
  },
  {
   "cell_type": "code",
   "execution_count": null,
   "metadata": {},
   "outputs": [],
   "source": [
    "predict_rnn.insert(2, '')"
   ]
  },
  {
   "cell_type": "code",
   "execution_count": null,
   "metadata": {},
   "outputs": [],
   "source": [
    "def plot_evals(test, predict):\n",
    "    evals = []\n",
    "    limit = len(test)\n",
    "    newlimit = 0\n",
    "    try:\n",
    "        for i in range(limit - 1):\n",
    "            evals.append(evaluate(test[i], predict[i]))\n",
    "            newlimit = i\n",
    "    except Exception:\n",
    "        pass\n",
    "\n",
    "    xpoints = np.arange(0, newlimit+1, 1, dtype=int)\n",
    "    ypoints = np.array(evals)\n",
    "\n",
    "    plt.plot(xpoints, ypoints)\n",
    "    plt.show()\n",
    "\n",
    "    return evals"
   ]
  },
  {
   "cell_type": "code",
   "execution_count": null,
   "metadata": {},
   "outputs": [],
   "source": [
    "rnn_evals = plot_evals(test, predict_rnn)"
   ]
  },
  {
   "cell_type": "code",
   "execution_count": null,
   "metadata": {},
   "outputs": [],
   "source": [
    "bengio_evals = plot_evals(test, predict_bengio)"
   ]
  },
  {
   "cell_type": "code",
   "execution_count": null,
   "metadata": {},
   "outputs": [],
   "source": [
    "for i, score in enumerate(bengio_evals):\n",
    "    if score != 1 and len(test[i].split(' ')) > 1:\n",
    "        print(test[i])\n",
    "        print(predict_bengio[i])\n",
    "        break"
   ]
  },
  {
   "cell_type": "markdown",
   "metadata": {},
   "source": [
    "# Conclusion"
   ]
  },
  {
   "cell_type": "markdown",
   "metadata": {},
   "source": [
    "Futuras versiones: todo jkajaja\n",
    "implementar una red SequenceToSequence para entrenar con pares pregunta / respuesta"
   ]
  }
 ],
 "metadata": {
  "interpreter": {
   "hash": "602bbe8e8fe3127dc2d2bb8f57c49cfbb507be2cc0e090f10eb4c4d0af354b8b"
  },
  "kernelspec": {
   "display_name": "Python 3.10.4 64-bit (windows store)",
   "language": "python",
   "name": "python3"
  },
  "language_info": {
   "codemirror_mode": {
    "name": "ipython",
    "version": 3
   },
   "file_extension": ".py",
   "mimetype": "text/x-python",
   "name": "python",
   "nbconvert_exporter": "python",
   "pygments_lexer": "ipython3",
   "version": "3.10.5"
  },
  "orig_nbformat": 4
 },
 "nbformat": 4,
 "nbformat_minor": 2
}
