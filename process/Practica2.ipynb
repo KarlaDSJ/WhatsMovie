{
 "cells": [
  {
   "cell_type": "code",
   "execution_count": 1,
   "metadata": {},
   "outputs": [
    {
     "name": "stderr",
     "output_type": "stream",
     "text": [
      "[nltk_data] Downloading package punkt to\n",
      "[nltk_data]     C:\\Users\\danie\\AppData\\Roaming\\nltk_data...\n",
      "[nltk_data]   Package punkt is already up-to-date!\n",
      "[nltk_data] Downloading package stopwords to\n",
      "[nltk_data]     C:\\Users\\danie\\AppData\\Roaming\\nltk_data...\n",
      "[nltk_data]   Package stopwords is already up-to-date!\n"
     ]
    }
   ],
   "source": [
    "#Autores: Daniel Castillo, Karla Salas con ayuda del profesor Mijangos\n",
    "from os import listdir\n",
    "from os.path import isfile, join\n",
    "#Para ver las palabras\n",
    "from collections import Counter\n",
    "import matplotlib.pyplot as plt\n",
    "from sklearn.decomposition import PCA\n",
    "# nltk\n",
    "import nltk\n",
    "nltk.download('punkt')\n",
    "nltk.download('stopwords')\n",
    "from sklearn.model_selection import train_test_split #particiones\n",
    "from nltk.corpus import stopwords #Listas de stopwords\n",
    "from nltk.tokenize import word_tokenize, sent_tokenize #Tokens\n",
    "import re #regex\n",
    "from itertools import chain #bigramas\n",
    "import numpy as np\n",
    "from operator import itemgetter\n",
    "import pickle # Guardar objetos\n",
    "from tqdm import tqdm #Medir el progreso del entrenamiento"
   ]
  },
  {
   "cell_type": "markdown",
   "metadata": {},
   "source": [
    "## Limpiamos y tokenizamos\n",
    "(Tomamos el código de la práctica anterior)\n",
    "\n",
    "Tokenizamos por oración y por palabra, ya que nos interesa medir la probabilidad de transitar de una palabra a otra y no por subpalabras (BPE), para intentar, más adelante, responder con una oración dada una entrada."
   ]
  },
  {
   "cell_type": "code",
   "execution_count": 2,
   "metadata": {},
   "outputs": [],
   "source": [
    "def get_txt(path):\n",
    "    \"\"\"\n",
    "    Regresa una lista con el contenido de todos los archivos de un directorio\n",
    "\n",
    "    Args:\n",
    "        path (str): ruta de la carpeta\n",
    "    \"\"\"\n",
    "    text = []\n",
    "    onlyfiles = [f for f in listdir(path) if isfile(join(path, f))]\n",
    "    \n",
    "    for file in onlyfiles:\n",
    "        with open(path+\"/\"+file, 'rb') as f:\n",
    "            text.append(f.read().decode('utf-8', 'replace'))\n",
    "    return text\n",
    "\n",
    "# Guardamos cada película en un diccionario\n",
    "# cada entrada del diccionario es una lista con las peliculas leídas\n",
    "movies = {}\n",
    "movies[\"Pride & Prejudice\"] = get_txt(\"../corpus/Pride & Prejudice\")\n",
    "movies[\"Marvel\"] = get_txt(\"../corpus/Marvel\")\n",
    "movies[\"Christopher Nolan\"] = get_txt(\"../corpus/Christopher Nolan\")"
   ]
  },
  {
   "cell_type": "code",
   "execution_count": 3,
   "metadata": {},
   "outputs": [],
   "source": [
    "# tokens que necesitan ser limpiados del corpus y que no\n",
    "# se encuentran en la lista de stopwords\n",
    "more = [\"_\",\"-\",\"'ve\", \"'ll\", \"'t\", \"'s\", \"'re\", \"'\", \"'m\", \"'d\", \"n't\", \"oh\", \"hey\", \"yeah\",\"okay\", \"mr.\", \"miss\", \"mrs.\"]\n",
    "stopwords_list = stopwords.words('english') + more\n",
    "\n",
    "def get_tokens_clean(text):\n",
    "    '''\n",
    "    Genera los tokens de una cadena y los limpia\n",
    "    (quita símbolos raros y stopwords)\n",
    "    \n",
    "    Args:\n",
    "        text (str): cadena\n",
    "    '''\n",
    "    tokens = word_tokenize(text)\n",
    "    clean = []\n",
    "    pattern = r'[^a-z0-9\\s]'\n",
    "    for w in tokens:\n",
    "        #quita stopwords y convierte a minúsculas\n",
    "        w = re.sub(pattern,'', w.lower())\n",
    "        if w not in stopwords_list and w != '':\n",
    "            if  w == \"na\": #Para juntar gon na, wan na, etc.\n",
    "                clean[-1] += w\n",
    "            else:\n",
    "                clean.append(w)\n",
    "\n",
    "    return clean"
   ]
  },
  {
   "cell_type": "code",
   "execution_count": 4,
   "metadata": {},
   "outputs": [
    {
     "name": "stderr",
     "output_type": "stream",
     "text": [
      "100%|██████████| 3/3 [00:05<00:00,  1.90s/it]\n"
     ]
    }
   ],
   "source": [
    "def merge_movies(col):\n",
    "    '''\n",
    "    Mezcla el corpus de cada película en una entrada del\n",
    "    diccionario movies en un solo corpus, \n",
    "    guarda los diálogos por línea tokenizados y limpios\n",
    "\n",
    "    Args:\n",
    "        col (dic): Diccionario con los diálogos\n",
    "    '''\n",
    "    corpus = []\n",
    "    #Iteramos sobre las películas\n",
    "    for movie in tqdm(col):\n",
    "        for text in movies[movie]:\n",
    "            #Cada texto se guarda por oraciones (contexto)\n",
    "            corpus += [get_tokens_clean(s) for s in sent_tokenize(text)]\n",
    "    return corpus\n",
    "\n",
    "all_movies = merge_movies(movies)"
   ]
  },
  {
   "cell_type": "code",
   "execution_count": 5,
   "metadata": {},
   "outputs": [
    {
     "name": "stdout",
     "output_type": "stream",
     "text": [
      "Número de cadenas train: 36479\n",
      "Número de cadenas test: 15634\n"
     ]
    }
   ],
   "source": [
    "#Particiones train, test (30%)\n",
    "train, test = train_test_split(all_movies, test_size=0.3)\n",
    "print('Número de cadenas train:',len(train))\n",
    "print('Número de cadenas test:',len(test))"
   ]
  },
  {
   "cell_type": "markdown",
   "metadata": {},
   "source": [
    "Quitamos las hápax: palabras que solo aparecen una vez en el corpus"
   ]
  },
  {
   "cell_type": "code",
   "execution_count": 6,
   "metadata": {},
   "outputs": [
    {
     "name": "stderr",
     "output_type": "stream",
     "text": [
      "100%|██████████| 52113/52113 [00:00<00:00, 1302896.14it/s]\n"
     ]
    }
   ],
   "source": [
    "def delete_hapax(corpus):\n",
    "    '''\n",
    "    Reemplaza las hapax en el corpus por la cadena '<oov>'\n",
    "\n",
    "    Args:\n",
    "        corpus (list(list)): corpus tokenizado por oración y palabra\n",
    "    '''\n",
    "    new_corpus = []\n",
    "    #Obtenemos las frecuencias de las palabras\n",
    "    frequences = Counter( chain(*[sentence for sentence in corpus]) )\n",
    "    for sentence in tqdm(corpus):\n",
    "      new_sent = []\n",
    "      for word in sentence:\n",
    "        new_sent.append(#reemplazamos\n",
    "          '<oov>' if frequences[word] == 1 else word\n",
    "        )\n",
    "      new_corpus.append(new_sent)\n",
    "    return new_corpus\n",
    "\n",
    "all_movies = delete_hapax(all_movies)"
   ]
  },
  {
   "cell_type": "markdown",
   "metadata": {},
   "source": [
    "## Vocabulario (indexado)\n",
    "Obtenemos los pares de entrenamiento a partir de contextos, bigramas."
   ]
  },
  {
   "cell_type": "code",
   "execution_count": 7,
   "metadata": {},
   "outputs": [
    {
     "name": "stdout",
     "output_type": "stream",
     "text": [
      "Bigramas de train: 162653\n",
      "Bigramas de test: 69645\n"
     ]
    }
   ],
   "source": [
    "def get_words_and_indexes(corpus):\n",
    "    '''\n",
    "    Genera el vocabulario del corpus y le asigna \n",
    "    un índice a cada palabra\n",
    "\n",
    "    Args:\n",
    "        corpus (list(list)): corpus tokenizado por oración y palabra\n",
    "    '''\n",
    "    # Generamos el vocabulario\n",
    "    words_to_index = list(Counter( chain(*[sentence for sentence in corpus]) ).keys())\n",
    "    # Agregamos etiquetas de inicio y fin al diccionario\n",
    "    words_to_index.append('<BOS>')\n",
    "    words_to_index.append('<EOS>')\n",
    "    # Índices para cada palabra\n",
    "    words_to_index = dict(zip(words_to_index, range(0, len(words_to_index) - 1)))\n",
    "    # A cada oración se le agrega la etiqueta BOS al inicio y EOS al final\n",
    "    new_corpus = [[len(words_to_index) - 2] + [words_to_index[t] for t in text] + [len(words_to_index) - 1] for text in corpus]\n",
    "    return words_to_index, new_corpus\n",
    "\n",
    "def get_bigrams(corpus):\n",
    "    '''\n",
    "    Genera los bigramas por oración dado un corpus\n",
    "\n",
    "    Args:\n",
    "        corpus (list(list)): corpus tokenizado por oración y palabra\n",
    "    '''\n",
    "    bigrams = list(chain(*[zip(cad,cad[1:]) for cad in corpus]))\n",
    "    return bigrams\n",
    "\n",
    "# vocabulario de todo el corpus\n",
    "word_to_index, new_corpus = get_words_and_indexes(all_movies)\n",
    "# Creamos conjuntos de train y test\n",
    "train, test = train_test_split(new_corpus, test_size=0.3)\n",
    "# Obtenemos bigramas\n",
    "bigrams_train = get_bigrams(train)\n",
    "bigrams_test = get_bigrams(test)\n",
    "\n",
    "print('Bigramas de train: {}'.format(len(bigrams_train)))\n",
    "print('Bigramas de test: {}'.format(len(bigrams_test)))"
   ]
  },
  {
   "cell_type": "markdown",
   "metadata": {},
   "source": [
    "# Red de Bengios\n",
    "\n",
    "Red propuesta por Bengios, de tipo FeedForward con una arquitectura constituida por:\n",
    " - Una capa de embedding (representación númerica de las palabras)\n",
    " - Una capa oculta con activación tanh\n",
    " - Una capa de salida con activación Softmax para obtener las probabilidades de transición.\n",
    "\n",
    "<p align=\"center\">\n",
    "  <img src=\"img/RedBengio.png\" alt=\"Red Bengio\"/>\n",
    "</p>\n"
   ]
  },
  {
   "cell_type": "code",
   "execution_count": 8,
   "metadata": {},
   "outputs": [],
   "source": [
    "class Bengio:\n",
    "    '''\n",
    "    Aplica la arquitectura de Bengios\n",
    "    \n",
    "    Args:\n",
    "        bigrams (list): Lista de bigramas por oración en el corpus\n",
    "        voc (dic): Diccionario de palabras con su índice asociado\n",
    "        dim (int): Unidades ocultas\n",
    "        nn_hdim (int): Unidades en la segunda capa\n",
    "    '''\n",
    "    def __init__(self, bigrams, voc, dim, nn_hdim):\n",
    "        np.random.seed(0)\n",
    "        self.bigrams = bigrams\n",
    "        self.voc = voc\n",
    "        # unidades de la capa oculta\n",
    "        self.dim = dim\n",
    "        # unidades de la segunda capa\n",
    "        self.nn_hdim = nn_hdim\n",
    "        N = len(voc)\n",
    "        #Embedding (este vector se guarda para la siguiente tarea)\n",
    "        self.C = np.random.randn(dim, N) / np.sqrt(N)\n",
    "        #U (a |V | × h matrix) - hidden-to-output weights\n",
    "        self.U = np.random.randn(nn_hdim, dim) / np.sqrt(dim)\n",
    "        self.b = np.zeros((1, self.nn_hdim)) #bias\n",
    "        # W (a |V | × (n − 1)m matrix) word features to output weights\n",
    "        self.W = np.random.randn(N, nn_hdim) / np.sqrt(nn_hdim)\n",
    "        self.c = np.zeros((1, N))\n",
    "    \n",
    "    def train(self, its, eta):\n",
    "        '''\n",
    "        Entrena la red de Bengios\n",
    "        Obtiene la probabilidad de transitar de una palabra a otra\n",
    "\n",
    "        Args:\n",
    "            its (int): Iteraciones\n",
    "            eta (int): radio de aprendizaje\n",
    "        '''\n",
    "        for i in tqdm(range(0,its)):\n",
    "            for ex in self.bigrams:\n",
    "                #Forward\n",
    "                f, a = self.forward(ex[0])\n",
    "                #Backward, pasos descritos en el paper\n",
    "                #Variable de salida, (a).1\n",
    "                d_out = f\n",
    "                d_out[ex[1]] -= 1\n",
    "                #Variable para la capa oculta\n",
    "                d_tanh = (1-a**2)*np.dot(self.W.T,d_out)\n",
    "                #Variable de embedding\n",
    "                d_emb = np.dot(self.U.T, d_tanh)\n",
    "                #Actualizacion de salida\n",
    "                self.W -= eta*np.outer(d_out,a)\n",
    "                #Actualiza bias de salida\n",
    "                self.c -= eta*d_out #[j]\n",
    "                #Actualizacion de capa oculta\n",
    "                self.U -= eta*np.outer(d_tanh,self.C.T[ex[0]])\n",
    "                #Actualiza bias\n",
    "                self.b -= eta*d_tanh\n",
    "                #Actualizacion de embedding\n",
    "                self.C.T[ex[0]] -= eta*d_emb\n",
    "\n",
    "    def forward(self, x): \n",
    "        '''\n",
    "        Etapa forward de la red \n",
    "        sirve para entrenar y evaluar el modelo\n",
    "\n",
    "        Args:\n",
    "            x (str): Palabra a calcular la probabilidad dado un contexto\n",
    "        '''  \n",
    "        #Embedimiento\n",
    "        x = self.C.T[x] #x(k) ← C(wt−k)\n",
    "        #capa oculta\n",
    "        #a ← tanh(Hx + d)\n",
    "        a = np.tanh(np.dot(self.U, x) + self.b)[0]\n",
    "        #salida\n",
    "        # p_j ← e**(a.U + b_j) \n",
    "        # if (direct connections) e**(e**(a.U + b_j) + x.W_j)\n",
    "        out = np.exp(np.dot(self.W, a) + self.c)[0]\n",
    "        #Softmax\n",
    "        # Normalize the probabilities\n",
    "        self.p = out/out.sum(0)\n",
    "        return self.p, a\n",
    "\n",
    "    def plot_words(self, ids):\n",
    "        '''\n",
    "        Muestra los embedings utilizando PCA\n",
    "\n",
    "        Args:\n",
    "            ids (int): valor númerico de la palabra\n",
    "        '''\n",
    "        Z = PCA(2).fit_transform(self.C.T[:-2])\n",
    "        r=0\n",
    "        plt.xticks(np.arange(-2, 2, 0.3))\n",
    "        plt.yticks(np.arange(-2, 2, 0.3))\n",
    "        plt.scatter(Z[:,0],Z[:,1], marker='.')\n",
    "        for label,x,y in zip(ids, Z[:,0], Z[:,1]):\n",
    "            plt.annotate(label, xy=(x,y), xytext=(-1,1), \n",
    "                         textcoords='offset points', \n",
    "                         ha='center', va='bottom')\n",
    "            r+=1\n",
    "        plt.show()\n",
    "\n",
    "    def prob_sentence(self, sentence):\n",
    "        '''\n",
    "        Obtenemos la probabilidad de la oración\n",
    "\n",
    "        Args:\n",
    "            sentence (list): lista de las palabras que componen la oración\n",
    "        '''\n",
    "        #Obtenemos los bigramas de la cadena de evaluacion\n",
    "        bigrams = list(zip(sentence,sentence[1:]))\n",
    "        p = 1\n",
    "        #Multiplicamos por las probabilidades de los bigramas dado el modelo\n",
    "        for gram1, gram2 in bigrams:\n",
    "            #Obtiene las probabilidades de transición\n",
    "            try:\n",
    "                prev_prob = self.forward(gram1)[0]\n",
    "            except:\n",
    "                prev_prob = self.forward(word_to_index['<oov>'])[0]\n",
    "\n",
    "            try:\n",
    "                p *= prev_prob[gram2]\n",
    "            except:\n",
    "                p *= prev_prob[word_to_index['<oov>']]\n",
    "                \n",
    "        return p \n",
    "\n",
    "    def get_entropy(self, test_data):\n",
    "        '''\n",
    "        Obtenemos la entropia promedio del modelo\n",
    "\n",
    "        Args:\n",
    "            test_data (list): conjunto de prueba tokenizado\n",
    "        '''\n",
    "        H = 0.0\n",
    "        # calculamos entropia como el promedio de las probabilidades de cada oración\n",
    "        for sentence in tqdm(test_data):\n",
    "            #Probabilidad de la cadena\n",
    "            p_cad = self.prob_sentence(sentence)\n",
    "            #Longitud de la cadena\n",
    "            M = len(sentence)\n",
    "            #Obtenemos la entropía cruzada de la cadena\n",
    "            if p_cad != 0:\n",
    "                H -= (1./M)*(np.log(p_cad)/np.log(2))\n",
    "\n",
    "        return H/len(test_data)\n",
    "    \n",
    "    def test(self, test):\n",
    "        '''\n",
    "        Probamos el modelo\n",
    "\n",
    "        Args:\n",
    "            test (list): conjunto de prueba tokenizado\n",
    "        '''\n",
    "        entropy = self.get_entropy(test)\n",
    "        perplexity = 2**entropy\n",
    "        return entropy, perplexity\n",
    "\n",
    "    def save_embedings(self, path):\n",
    "        '''\n",
    "        Guardamos en diccionario (palabra: embeding) en un\n",
    "        archivo\n",
    "\n",
    "        Args:\n",
    "            path (str): ruta para guardar el archivo\n",
    "        '''\n",
    "        embedings = {}\n",
    "        for word in self.voc.keys():\n",
    "            embedings[word] = self.C.T[self.voc[word]]\n",
    "\n",
    "        pickle.dump(embedings, open(path, 'wb'))\n",
    "\n",
    "    def save_model(self, path):\n",
    "        \"\"\"\n",
    "        Para guardar el modelo ya entrenado en un archivo\n",
    "\n",
    "        Args:\n",
    "            path (str): ruta para guardar el archivo\n",
    "        \"\"\"\n",
    "        pickle.dump(self, open(path, 'wb'))"
   ]
  },
  {
   "cell_type": "markdown",
   "metadata": {},
   "source": [
    "## Entrenamiento"
   ]
  },
  {
   "cell_type": "code",
   "execution_count": 9,
   "metadata": {},
   "outputs": [
    {
     "name": "stderr",
     "output_type": "stream",
     "text": [
      "100%|██████████| 20/20 [54:34<00:00, 163.74s/it]\n"
     ]
    }
   ],
   "source": [
    "bigrams_train_10, _ = train_test_split(bigrams_train, test_size=0.9)\n",
    "bengio = Bengio(bigrams_train_10, word_to_index, 254, 128)\n",
    "bengio.train(20, 0.1)"
   ]
  },
  {
   "cell_type": "code",
   "execution_count": 10,
   "metadata": {},
   "outputs": [
    {
     "data": {
      "image/png": "[encoded data removed]",
      "text/plain": [
       "<Figure size 432x288 with 1 Axes>"
      ]
     },
     "metadata": {
      "needs_background": "light"
     },
     "output_type": "display_data"
    }
   ],
   "source": [
    "label = [w[0] for w in sorted(list(word_to_index.items())[:100], key=itemgetter(1))]\n",
    "bengio.plot_words(label)"
   ]
  },
  {
   "cell_type": "markdown",
   "metadata": {},
   "source": [
    "Evaluamos el modelo"
   ]
  },
  {
   "cell_type": "code",
   "execution_count": 11,
   "metadata": {},
   "outputs": [
    {
     "name": "stderr",
     "output_type": "stream",
     "text": [
      "100%|██████████| 1000/1000 [00:01<00:00, 774.59it/s]"
     ]
    },
    {
     "name": "stdout",
     "output_type": "stream",
     "text": [
      "Entropy: 9.29426577135724\n",
      "Perplexity: 627.8454985552166\n"
     ]
    },
    {
     "name": "stderr",
     "output_type": "stream",
     "text": [
      "\n"
     ]
    }
   ],
   "source": [
    "entropy, perplexity =  bengio.test(test[:1000])\n",
    "print('Entropy: {}'.format(entropy))\n",
    "print('Perplexity: {}'.format(perplexity))"
   ]
  },
  {
   "cell_type": "markdown",
   "metadata": {},
   "source": [
    "Guardamos los embedings"
   ]
  },
  {
   "cell_type": "code",
   "execution_count": 13,
   "metadata": {},
   "outputs": [
    {
     "name": "stdout",
     "output_type": "stream",
     "text": [
      "[ 0.0504375   0.04204342 -0.00066883  0.05583031 -0.05504821 -0.04661325\n",
      " -0.03567859  0.02856636 -0.07742847 -0.08115211 -0.00255162 -0.02371278\n",
      " -0.01118197  0.06105471 -0.06254846  0.01458872  0.03855344 -0.03182118\n",
      " -0.10369294  0.12573338 -0.01588852  0.00361127 -0.00324225 -0.0393842\n",
      " -0.00609624  0.00038337 -0.02002499 -0.04346576 -0.01816284 -0.02890435\n",
      " -0.1023391  -0.07257143  0.00223933  0.04288617  0.06092228 -0.03227182\n",
      "  0.01773254  0.03503374 -0.04933452  0.02959524  0.02351907  0.06661715\n",
      "  0.06895565  0.0518188   0.00208171 -0.00443749  0.05178246  0.03788481\n",
      "  0.04473546  0.04646946 -0.0391963  -0.03587902 -0.04745228  0.04515332\n",
      "  0.01138696 -0.05141409  0.03311824 -0.05494937 -0.0183703   0.03279078\n",
      "  0.03324758 -0.00615126 -0.06551508 -0.08074445 -0.04497633 -0.04473423\n",
      " -0.00987398 -0.0330098   0.00537228 -0.00768853  0.10578091  0.09539409\n",
      "  0.01235125 -0.03502969  0.05489088 -0.00370614  0.10468272 -0.04961365\n",
      "  0.05047221  0.02368864  0.03338356 -0.09449841 -0.01123635 -0.00830401\n",
      " -0.04757172  0.08033609 -0.02361815 -0.04251359 -0.08440764  0.07044987\n",
      "  0.0184102  -0.01143368 -0.02461017 -0.01333204 -0.00072906  0.07368355\n",
      "  0.01849215 -0.02397025  0.00344938  0.02523783  0.026911   -0.05647674\n",
      "  0.0582711   0.00496069 -0.00277633 -0.02170505 -0.00353266  0.00415057\n",
      "  0.04454385  0.00900173  0.05619414  0.05450755 -0.01842887  0.00934891\n",
      "  0.00548128 -0.01657417 -0.03976193  0.07188731  0.0173038   0.01026199\n",
      "  0.05962888 -0.01462425 -0.04003242  0.01775106  0.03420368 -0.03769535\n",
      " -0.00394049  0.02124953 -0.02144986  0.04370842  0.01901363  0.05573684\n",
      "  0.0058763  -0.08066835  0.02231508 -0.0418491  -0.0161377   0.00783645\n",
      " -0.10941389 -0.01613664  0.02055202 -0.02614814 -0.06305302 -0.00052636\n",
      " -0.06493251 -0.00514501 -0.06245403 -0.01936937 -0.05486872 -0.01001406\n",
      "  0.03933829  0.05335713 -0.01305768  0.04144713  0.04535807  0.00589235\n",
      " -0.0523965   0.02026352  0.00976177 -0.03845908 -0.00392517 -0.01584734\n",
      " -0.00187342 -0.06406117  0.02650658  0.03846528  0.00327817  0.05076162\n",
      " -0.06603487  0.06484056  0.01328895  0.01702433  0.06818443  0.08127195\n",
      " -0.0139211   0.02466293  0.03578658 -0.00840935  0.03490821 -0.04886042\n",
      " -0.07976664 -0.07385568  0.03026018  0.00141475  0.030831    0.10712834\n",
      "  0.00612284 -0.01153908  0.02152851  0.0178663  -0.01458539 -0.04137422\n",
      " -0.04775441 -0.02728164  0.07135634  0.03002227 -0.04631585 -0.00070547\n",
      "  0.03746628 -0.00980759  0.05494821  0.0879641   0.04741256  0.00556367\n",
      " -0.06009659 -0.03426529  0.07568018 -0.01621043  0.03300672 -0.07279788\n",
      " -0.01168552 -0.05961581 -0.04304948  0.0198908   0.10750336  0.04108536\n",
      "  0.00938254  0.00609572  0.02799329  0.01418453  0.00646569  0.01391845\n",
      "  0.0063846  -0.04050956 -0.04723363  0.01194377 -0.02642843  0.02118934\n",
      "  0.01255222  0.01418179  0.05022989 -0.04850458  0.00291881 -0.0040662\n",
      "  0.10760141  0.00830536  0.10187574 -0.00962278 -0.03517916 -0.08902563\n",
      "  0.02953934  0.00121473 -0.0264793   0.02546348 -0.01054253  0.04745325\n",
      " -0.04213288 -0.04241298 -0.02003058  0.04360315 -0.07758298  0.01197826\n",
      "  0.08105002  0.06179002]\n"
     ]
    }
   ],
   "source": [
    "bengio.save_embedings('./model/embedings.pkl') #Guardamos\n",
    "# Comprobamos que se guardó correctamente\n",
    "embedings = pickle.load(open('./model/embedings.pkl', 'rb'))\n",
    "print(embedings['stephen'])"
   ]
  },
  {
   "cell_type": "markdown",
   "metadata": {},
   "source": [
    "Guardamos la red"
   ]
  },
  {
   "cell_type": "code",
   "execution_count": 14,
   "metadata": {},
   "outputs": [
    {
     "name": "stderr",
     "output_type": "stream",
     "text": [
      "100%|██████████| 1000/1000 [00:01<00:00, 713.89it/s]"
     ]
    },
    {
     "name": "stdout",
     "output_type": "stream",
     "text": [
      "Entropy: 9.29426577135724\n",
      "Perplexity: 627.8454985552166\n"
     ]
    },
    {
     "name": "stderr",
     "output_type": "stream",
     "text": [
      "\n"
     ]
    }
   ],
   "source": [
    "bengio.save_model('./model/model.pkl') #Guardamos\n",
    "# Comprobamos que se guardó correctamente\n",
    "bengio_new = pickle.load(open('./model/model.pkl', 'rb'))\n",
    "\n",
    "entropy, perplexity =  bengio.test(test[:1000])\n",
    "print('Entropy: {}'.format(entropy))\n",
    "print('Perplexity: {}'.format(perplexity))"
   ]
  }
 ],
 "metadata": {
  "interpreter": {
   "hash": "602bbe8e8fe3127dc2d2bb8f57c49cfbb507be2cc0e090f10eb4c4d0af354b8b"
  },
  "kernelspec": {
   "display_name": "Python 3.10.4 64-bit (windows store)",
   "language": "python",
   "name": "python3"
  },
  "language_info": {
   "codemirror_mode": {
    "name": "ipython",
    "version": 3
   },
   "file_extension": ".py",
   "mimetype": "text/x-python",
   "name": "python",
   "nbconvert_exporter": "python",
   "pygments_lexer": "ipython3",
   "version": "3.10.4"
  },
  "orig_nbformat": 4
 },
 "nbformat": 4,
 "nbformat_minor": 2
}
