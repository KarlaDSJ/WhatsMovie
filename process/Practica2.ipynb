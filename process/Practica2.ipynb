{
 "cells": [
  {
   "cell_type": "code",
   "execution_count": null,
   "metadata": {},
   "outputs": [],
   "source": [
    "#Autores: Daniel Castillo, Karla Salas\n",
    "from os import listdir\n",
    "from os.path import isfile, join\n",
    "#Para ver las palabras\n",
    "from collections import Counter\n",
    "import matplotlib.pyplot as plt\n",
    "# nltk\n",
    "import nltk\n",
    "nltk.download('punkt')\n",
    "nltk.download('stopwords')\n",
    "from sklearn.model_selection import train_test_split #particiones\n",
    "from nltk.corpus import stopwords #Listas de stopwords\n",
    "from nltk.tokenize import word_tokenize, sent_tokenize #Tokens\n",
    "import re #regex\n",
    "from itertools import chain #bigramas\n",
    "import numpy as np\n",
    "from sklearn.decomposition import PCA\n",
    "from operator import itemgetter"
   ]
  },
  {
   "cell_type": "markdown",
   "metadata": {},
   "source": [
    "## Limpiamos y tokenizamos\n",
    "(Tomamos el código de la práctica anterior)\n",
    "\n",
    "Tokenizamos por palabra, ya que nos interesa medir la probabilidad de transitar de una palabra a otra y no por subpalabras, para intentar, más adelante, responder con una oración dada una entrada."
   ]
  },
  {
   "cell_type": "code",
   "execution_count": null,
   "metadata": {},
   "outputs": [],
   "source": [
    "def get_txt(path):\n",
    "    \"\"\"\n",
    "    Regresa una lista con el contenido de todos los archivos de un directorio\n",
    "\n",
    "    Args:\n",
    "        path (str): ruta de la carpeta\n",
    "    \"\"\"\n",
    "    text = []\n",
    "    onlyfiles = [f for f in listdir(path) if isfile(join(path, f))]\n",
    "    \n",
    "    for file in onlyfiles:\n",
    "         with open(path+\"/\"+file, 'rb') as f:\n",
    "            text.append(f.read().decode('utf-8', 'replace'))\n",
    "    return text\n",
    "\n",
    "# Guardamos cada película en un diccionario\n",
    "# cada entrada del diccionario es una lista con las peliculas leídas\n",
    "movies = {}\n",
    "movies[\"Pride & Prejudice\"] = get_txt(\"../corpus/Pride & Prejudice\")\n",
    "movies[\"Marvel\"] = get_txt(\"../corpus/Marvel\")\n",
    "movies[\"Christopher Nolan\"] = get_txt(\"../corpus/Christopher Nolan\")"
   ]
  },
  {
   "cell_type": "code",
   "execution_count": null,
   "metadata": {},
   "outputs": [],
   "source": [
    "# tokens que necesitan ser limpiados del corpus y que no\n",
    "# se encuentran en la lista de stopwords\n",
    "more = [\"_\",\"-\",\"'ve\", \"'ll\", \"'t\", \"'s\", \"'re\", \"'\", \"'m\", \"'d\", \"n't\", \"oh\", \"hey\", \"yeah\",\"okay\", \"mr.\", \"miss\", \"mrs.\"]\n",
    "stopwords_list = stopwords.words('english') + more\n",
    "\n",
    "def get_tokens_clean(text):\n",
    "    '''\n",
    "    Genera los tokens de una cadena y los limpia\n",
    "    (quita símbolos raros y stopwords)\n",
    "    \n",
    "    Args:\n",
    "        text (str): cadena\n",
    "    '''\n",
    "    tokens = word_tokenize(text)\n",
    "    clean = []\n",
    "    pattern = r'[^a-z0-9\\s]'\n",
    "    for w in tokens:\n",
    "        #quita stopwords y convierte a minúsculas\n",
    "        w = re.sub(pattern,'', w.lower())\n",
    "        if w not in stopwords_list and w != '':\n",
    "            if  w == \"na\": #Para juntar gon na, wan na, etc.\n",
    "                clean[-1] += w\n",
    "            else:\n",
    "                clean.append(w)\n",
    "\n",
    "    return clean"
   ]
  },
  {
   "cell_type": "code",
   "execution_count": null,
   "metadata": {},
   "outputs": [],
   "source": [
    "def merge_movies(col):\n",
    "    '''\n",
    "    Mezcla el corpus de cada película en una entrada del\n",
    "    diccionario movies en un solo corpus, \n",
    "    guarda los diálogos por línea tokenizados y limpios\n",
    "\n",
    "    Args:\n",
    "        col (dic): Diccionario con los diálogos\n",
    "    '''\n",
    "    corpus = []\n",
    "    #Iteramos sobre las películas\n",
    "    for movie in col:\n",
    "        print(movie, len(movies[movie]))\n",
    "        for text in movies[movie]:\n",
    "            #Cada texto se guarda por oraciones (contexto)\n",
    "            corpus += [get_tokens_clean(s) for s in sent_tokenize(text)]\n",
    "    return corpus\n",
    "\n",
    "all_movies = merge_movies(movies)"
   ]
  },
  {
   "cell_type": "code",
   "execution_count": null,
   "metadata": {},
   "outputs": [],
   "source": [
    "#Particiones train, test (30%), val (10%)\n",
    "train_aux, test = train_test_split(all_movies, test_size=0.3)\n",
    "train, val = train_test_split(all_movies, test_size=0.1)\n",
    "print('Número de cadenas train:',len(train))\n",
    "print('Número de cadenas val:',len(val))\n",
    "print('Número de cadenas test:',len(test))"
   ]
  },
  {
   "cell_type": "markdown",
   "metadata": {},
   "source": [
    "No es necesario quitar las hápax (palabras que solo aparecen una vez en el corpus) la red propuesta por Bengio ya las toma en consideración."
   ]
  },
  {
   "cell_type": "markdown",
   "metadata": {},
   "source": [
    "## Vocabulario (indexado)\n",
    "Obtenemos los pares de entrenamiento a partir de contextos, bigramas."
   ]
  },
  {
   "cell_type": "code",
   "execution_count": null,
   "metadata": {},
   "outputs": [],
   "source": [
    "def get_words_and_indexes(corpus):\n",
    "    # indices para cada palabra\n",
    "    words_to_index = list(Counter( chain(*[sentence for sentence in corpus]) ).keys())\n",
    "    # Agregamos etiquetas de inicio y fin al diccionario\n",
    "    words_to_index.append('<BOS>')\n",
    "    words_to_index.append('<EOS>')\n",
    "\n",
    "    words_to_index = dict(zip(words_to_index, range(0, len(words_to_index) - 1)))\n",
    "    \n",
    "    # A cada línea de los diálogos se le agrega la etiqueta BOS al inicio y EOS al final\n",
    "    new_corpus = [[len(words_to_index) - 2] + [words_to_index[t] for t in text] + [len(words_to_index) - 1] for text in train]\n",
    "    # Se crean los bigramas\n",
    "    bigrams = list(chain(*[zip(cad,cad[1:]) for cad in new_corpus]))\n",
    "    return words_to_index, bigrams, new_corpus\n",
    "\n",
    "# Para el entrenamiento con el conjunto grande\n",
    "word_to_index, bigrams, new_corpus = get_words_and_indexes(train)\n",
    "# Para el entrenamiento con el conjunto pequeño\n",
    "word_to_indexV, bigramsV, new_corpusV = get_words_and_indexes(train)\n",
    "print(len(bigramsV))"
   ]
  },
  {
   "cell_type": "markdown",
   "metadata": {},
   "source": [
    "# Red Neuronal"
   ]
  },
  {
   "cell_type": "code",
   "execution_count": null,
   "metadata": {},
   "outputs": [],
   "source": [
    "class Bengio:\n",
    "    def __init__(self, input_dim, output_dim, num_examples):\n",
    "        np.random.seed(0)\n",
    "        #El número de rasgos que representan cada vector\n",
    "        self.input_dim = input_dim\n",
    "        #El total de clases que arrojará\n",
    "        self.output_dim = output_dim\n",
    "        #El número de ejmplos\n",
    "        self.num_examples = num_examples\n",
    "        # h be the number of hidden units\n",
    "        h = 128\n",
    "\n",
    "        #Dimensiones de los vectores-palabra\n",
    "        dim = 300\n",
    "        nn_hdim = 100\n",
    "\n",
    "        #Embedding (este vector se guarda para la siguiente tarea)\n",
    "        self.C = np.random.randn(dim, input_dim) / np.sqrt(input_dim)\n",
    "\n",
    "        #Capa oculta\n",
    "        #U (a |V | × h matrix) - hidden-to-output weights\n",
    "        self.U = np.random.randn(nn_hdim, dim) / np.sqrt(dim)\n",
    "        self.b = np.zeros((1, nn_hdim)) #bias\n",
    "\n",
    "        #Capa de salida\n",
    "        # W (a |V | × (n − 1)m matrix) word features to output weights\n",
    "        self.W = np.random.randn(input_dim-1, nn_hdim) / np.sqrt(nn_hdim)\n",
    "        self.c = np.zeros((1, input_dim-1))\n",
    "    \n",
    "    def train(self, bigrams):\n",
    "        its = 10\n",
    "        eta = 0.1\n",
    "        for i in range(0,its):\n",
    "            print('train {}'.format(i))\n",
    "            for ex in bigrams:\n",
    "                #Forward\n",
    "                #Embedimiento\n",
    "                c_w = self.C.T[ex[0]]\n",
    "                #capa oculta\n",
    "                h1 = np.tanh(np.dot(self.U,c_w) + self.b)[0]\n",
    "                #salida\n",
    "                out = np.exp(np.dot(self.W,h1) + self.c)[0]\n",
    "                #Softmax\n",
    "                f = out/out.sum(0)\n",
    "\n",
    "                #Backprop\n",
    "                #Variable de salida\n",
    "                d_out = f\n",
    "                d_out[ex[1]] -= 1\n",
    "                \n",
    "                #Variable para la capa oculta\n",
    "                d_tanh = (1-h1**2)*np.dot(self.W.T,d_out)\n",
    "                \n",
    "                #Variable de embedding\n",
    "                d_emb = np.dot(self.U.T, d_tanh)\n",
    "\n",
    "                #Actualizacion de salida\n",
    "                self.W -= eta*np.outer(d_out,h1)\n",
    "                #Actualiza bias de salida\n",
    "                self.c -= eta*d_out #[j]\n",
    "\n",
    "                #Actualizacion de capa oculta\n",
    "                self.U -= eta*np.outer(d_tanh,c_w)\n",
    "                #Actualiza bias\n",
    "                self.b -= eta*d_tanh\n",
    "\n",
    "                #Actualizacion de embedding\n",
    "                self.C.T[ex[0]] -= eta*d_emb\n",
    "\n",
    "    def forward(self, x):    \n",
    "        #Embedimiento\n",
    "        x_w = self.C.T[x] #x(k) ← C(wt−k)\n",
    "        #a ← tanh(Hx + d)\n",
    "        a = np.tanh(np.dot(self.U, x_w) + self.b)[0]\n",
    "        # p_j ← e**(a.U + b_j) \n",
    "        # if (direct connections) e**(e**(a.U + b_j) + x.W_j)\n",
    "        out = np.exp(np.dot(self.W, a) + self.c)[0]\n",
    "        # Normalize the probabilities\n",
    "        self.p = out/out.sum(0)\n",
    "        return self.p\n",
    "\n",
    "    def plot_words(self, ids):\n",
    "        Z = self.C.T[:-2]\n",
    "        Z = PCA(2).fit_transform(Z)\n",
    "        r=0\n",
    "        plt.scatter(Z[:,0],Z[:,1], marker='o', c='blue')\n",
    "        for label,x,y in zip(ids, Z[:,0], Z[:,1]):\n",
    "            plt.annotate(label, xy=(x,y), xytext=(-1,1), \n",
    "                         textcoords='offset points', \n",
    "                         ha='center', va='bottom')\n",
    "            r+=1\n",
    "        plt.show()\n",
    "\n",
    "    def get_entropy(self, test_data):\n",
    "        #Inicialización Entropía\n",
    "        H = 0.0\n",
    "        Hs = []\n",
    "\n",
    "        #Evaluamos en el corpus de evaluación\n",
    "        for sentence in test_data:\n",
    "            # Número de palabras\n",
    "            M = len(sentence)\n",
    "            H_sentence = 0.0\n",
    "            for cad in sentence:\n",
    "                # Probabilidad de la cadena\n",
    "                H_sentence += np.log2(self.forward(word_to_index[cad]))\n",
    "                \n",
    "            Hs.append(H_sentence * 1/(-M+1e-100))\n",
    "            #Obtenemos la entropía cruzada de la cadena\n",
    "            H += H_sentence * 1/(-M+1e-100)\n",
    "\n",
    "        return H/len(test_data), Hs\n",
    "    \n",
    "    def test(self, test):\n",
    "        entropy, entropies = self.get_entropy2(test)\n",
    "        #Visualización del modelo\n",
    "        print(\"Promedio de entropias: \",entropy)\n",
    "        plt.scatter(entropies, entropies, color='g', s=4, label='Bigram model')\n",
    "        plt.legend(bbox_to_anchor=(1, 1))\n",
    "        plt.show()"
   ]
  },
  {
   "cell_type": "markdown",
   "metadata": {},
   "source": [
    "## Pruebas conjunto de Validación"
   ]
  },
  {
   "cell_type": "code",
   "execution_count": null,
   "metadata": {},
   "outputs": [],
   "source": [
    "bengio = Bengio(len(word_to_indexV) + 1, len(word_to_indexV) + 1, len(bigramsV))\n",
    "bengio.train(bigramsV)"
   ]
  },
  {
   "cell_type": "code",
   "execution_count": null,
   "metadata": {},
   "outputs": [],
   "source": [
    "label = [w[0] for w in sorted(list(word_to_indexV.items())[:5], key=itemgetter(1))]\n",
    "bengio.plot_words(label)"
   ]
  },
  {
   "cell_type": "markdown",
   "metadata": {},
   "source": [
    "Calculamos la entropia"
   ]
  },
  {
   "cell_type": "code",
   "execution_count": null,
   "metadata": {},
   "outputs": [],
   "source": [
    "bengio.test2(test)"
   ]
  },
  {
   "cell_type": "markdown",
   "metadata": {},
   "source": [
    "## Pruebas conjunto de Entrenamiento"
   ]
  },
  {
   "cell_type": "code",
   "execution_count": null,
   "metadata": {},
   "outputs": [],
   "source": [
    "bengio = Bengio(len(word_to_index) + 1, len(word_to_index) + 1, len(bigrams))\n",
    "bengio.train(bigrams)\n",
    "label = [w[0] for w in sorted(list(word_to_index.items()), key=itemgetter(1))]\n",
    "bengio.plot_words(label)"
   ]
  },
  {
   "cell_type": "markdown",
   "metadata": {},
   "source": [
    "Calculamos la entropia"
   ]
  },
  {
   "cell_type": "code",
   "execution_count": null,
   "metadata": {},
   "outputs": [],
   "source": [
    "bengio.test2(test)"
   ]
  }
 ],
 "metadata": {
  "interpreter": {
   "hash": "916dbcbb3f70747c44a77c7bcd40155683ae19c65e1c03b4aa3499c5328201f1"
  },
  "kernelspec": {
   "display_name": "Python 3.8.10 64-bit",
   "language": "python",
   "name": "python3"
  },
  "language_info": {
   "codemirror_mode": {
    "name": "ipython",
    "version": 3
   },
   "file_extension": ".py",
   "mimetype": "text/x-python",
   "name": "python",
   "nbconvert_exporter": "python",
   "pygments_lexer": "ipython3",
   "version": "3.8.10"
  },
  "orig_nbformat": 4
 },
 "nbformat": 4,
 "nbformat_minor": 2
}
