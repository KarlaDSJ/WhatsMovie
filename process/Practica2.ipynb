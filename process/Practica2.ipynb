{
 "cells": [
  {
   "cell_type": "code",
   "execution_count": 101,
   "metadata": {},
   "outputs": [
    {
     "name": "stderr",
     "output_type": "stream",
     "text": [
      "[nltk_data] Downloading package punkt to /home/karla/nltk_data...\n",
      "[nltk_data]   Package punkt is already up-to-date!\n",
      "[nltk_data] Downloading package stopwords to /home/karla/nltk_data...\n",
      "[nltk_data]   Package stopwords is already up-to-date!\n"
     ]
    }
   ],
   "source": [
    "#Autores: Daniel Castillo, Karla Salas\n",
    "from os import listdir\n",
    "from os.path import isfile, join\n",
    "#Para ver las palabras\n",
    "from collections import Counter\n",
    "import matplotlib.pyplot as plt\n",
    "from wordcloud import WordCloud\n",
    "# nltk\n",
    "import nltk\n",
    "nltk.download('punkt')\n",
    "nltk.download('stopwords')\n",
    "from sklearn.model_selection import train_test_split #particiones\n",
    "from nltk.corpus import stopwords #Listas de stopwords\n",
    "from nltk.tokenize import word_tokenize #Tokens\n",
    "import re #regex\n",
    "from itertools import chain #bigramas"
   ]
  },
  {
   "cell_type": "markdown",
   "metadata": {},
   "source": [
    "## Limpiamos y tokenizamos\n",
    "(Tomamos el código de la práctica anterior)\n",
    "\n",
    "Tokenizamos por palabra, ya que nos interesa medir la probabilidad de transitar de una palabra a otra y no por subpalabras, para intentar, más adelante, responder con una oración dada una entrada."
   ]
  },
  {
   "cell_type": "code",
   "execution_count": 96,
   "metadata": {},
   "outputs": [],
   "source": [
    "def get_txt(path):\n",
    "    \"\"\"\n",
    "    Regresa una lista con el contenido de todos los archivos de un directorio\n",
    "\n",
    "    Args:\n",
    "        path (str): ruta de la carpeta\n",
    "    \"\"\"\n",
    "    text = []\n",
    "    onlyfiles = [f for f in listdir(path) if isfile(join(path, f))]\n",
    "    \n",
    "    for file in onlyfiles:\n",
    "         with open(path+\"/\"+file, 'rb') as f:\n",
    "            text.append(f.read().decode('utf-8', 'replace'))\n",
    "    return text\n",
    "\n",
    "# Guardamos cada película en un diccionario\n",
    "# cada entrada del diccionario es una lista con las peliculas leídas\n",
    "movies = {}\n",
    "movies[\"Pride & Prejudice\"] = get_txt(\"../corpus/Pride & Prejudice\")\n",
    "movies[\"Marvel\"] = get_txt(\"../corpus/Marvel\")\n",
    "movies[\"Christopher Nolan\"] = get_txt(\"../corpus/Christopher Nolan\")"
   ]
  },
  {
   "cell_type": "code",
   "execution_count": 97,
   "metadata": {},
   "outputs": [],
   "source": [
    "# tokens que necesitan ser limpiados del corpus y que no\n",
    "# se encuentran en la lista de stopwords\n",
    "more = [\"_\",\"-\",\"'ve\", \"'ll\", \"'t\", \"'s\", \"'re\", \"'\", \"'m\", \"'d\", \"n't\", \"oh\", \"hey\", \"yeah\",\"okay\", \"mr.\", \"miss\", \"mrs.\"]\n",
    "stopwords_list = stopwords.words('english') + more\n",
    "\n",
    "def get_tokens_clean(text):\n",
    "    '''\n",
    "    Genera los tokens de una cadena y los limpia\n",
    "    (quita símbolos raros y stopwords)\n",
    "    \n",
    "    Args:\n",
    "        text (str): cadena\n",
    "    '''\n",
    "    tokens = word_tokenize(text)\n",
    "    clean = []\n",
    "    pattern = r'[^a-z0-9\\s]'\n",
    "    for w in tokens:\n",
    "        #quita stopwords y convierte a minúsculas\n",
    "        w = re.sub(pattern,'', w.lower())\n",
    "        if w not in stopwords_list and w != '':\n",
    "            if  w == \"na\": #Para juntar gon na, wan na, etc.\n",
    "                clean[-1] += w\n",
    "            else:\n",
    "                clean.append(w)\n",
    "\n",
    "    return clean"
   ]
  },
  {
   "cell_type": "code",
   "execution_count": 98,
   "metadata": {},
   "outputs": [
    {
     "name": "stdout",
     "output_type": "stream",
     "text": [
      "Pride & Prejudice 1\n",
      "Marvel 23\n",
      "Christopher Nolan 5\n"
     ]
    }
   ],
   "source": [
    "def merge_movies(col):\n",
    "    '''\n",
    "    Mezcla el corpus de cada película en una entrada del\n",
    "    diccionario movies en un solo corpus, \n",
    "    guarda los diálogos por línea tokenizados y limpios\n",
    "\n",
    "    Args:\n",
    "        col (dic): Diccionario con los diálogos\n",
    "    '''\n",
    "    corpus = []\n",
    "    #Iteramos sobre las películas\n",
    "    for movie in col:\n",
    "        print(movie, len(movies[movie]))\n",
    "        for text in movies[movie]:\n",
    "            #Cada texto se guarda por línea (contexto)\n",
    "            #Quitamos líneas vacías\n",
    "            corpus += map(get_tokens_clean, list(filter(bool, text.split('\\n'))))\n",
    "    return corpus\n",
    "\n",
    "all_movies = merge_movies(movies)"
   ]
  },
  {
   "cell_type": "code",
   "execution_count": 100,
   "metadata": {},
   "outputs": [
    {
     "name": "stdout",
     "output_type": "stream",
     "text": [
      "Número de cadenas train: 39846\n",
      "Número de cadenas test: 17078\n"
     ]
    }
   ],
   "source": [
    "#Particiones train y test (30%)\n",
    "train, test = train_test_split(all_movies, test_size=0.3)\n",
    "print('Número de cadenas train:',len(train))\n",
    "print('Número de cadenas test:',len(test))\n",
    "#Falta hacer algo con las palabras fuera del vocabulario"
   ]
  },
  {
   "cell_type": "markdown",
   "metadata": {},
   "source": [
    "## Vocabulario (indexado)\n",
    "Obtenemos los pares de entrenamiento a partir de contextos, bigramas."
   ]
  },
  {
   "cell_type": "code",
   "execution_count": null,
   "metadata": {},
   "outputs": [],
   "source": [
    "def get_vocabulary():\n",
    "\n",
    "voc = vocab()\n",
    "#Creamos el vocabulario y le asignamos un indice a cada simbolo segun su aparicion\n",
    "cads_idx = list(text2numba(corpus_hapax,voc))\n",
    "#Indicamos las etiquetas a usar\n",
    "EOS = '<EOS>'\n",
    "BOS = '<BOS>'\n",
    "#Cada etiqeuta se le asigna un indice numerico\n",
    "BOS_IDX = max(voc.values())+2\n",
    "EOS_IDX = max(voc.values())+1\n",
    "#Se agregan estas etiqeutas al vocabulario\n",
    "voc[EOS] = EOS_IDX\n",
    "voc[BOS] = BOS_IDX\n",
    "#A cada línea de los diálogos se le agrega la etiqueta BOS al inicio y EOS al final\n",
    "cadenas = [[BOS_IDX] + text + [EOS_IDX] for text in train]\n",
    "#Se crean los bigramas\n",
    "bigrams = list(chain(*[zip(cad,cad[1:]) for cad in cadenas]))\n",
    "\n",
    "print(bigrams[:10])\n"
   ]
  }
 ],
 "metadata": {
  "interpreter": {
   "hash": "916dbcbb3f70747c44a77c7bcd40155683ae19c65e1c03b4aa3499c5328201f1"
  },
  "kernelspec": {
   "display_name": "Python 3.8.10 64-bit",
   "language": "python",
   "name": "python3"
  },
  "language_info": {
   "codemirror_mode": {
    "name": "ipython",
    "version": 3
   },
   "file_extension": ".py",
   "mimetype": "text/x-python",
   "name": "python",
   "nbconvert_exporter": "python",
   "pygments_lexer": "ipython3",
   "version": "3.8.10"
  },
  "orig_nbformat": 4
 },
 "nbformat": 4,
 "nbformat_minor": 2
}
