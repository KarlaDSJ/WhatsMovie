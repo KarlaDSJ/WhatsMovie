{
 "cells": [
  {
   "cell_type": "code",
   "execution_count": null,
   "metadata": {},
   "outputs": [],
   "source": [
    "#Autores: Daniel Castillo, Karla Salas\n",
    "from os import listdir\n",
    "from os.path import isfile, join\n",
    "#Para ver las palabras\n",
    "from collections import Counter\n",
    "import matplotlib.pyplot as plt\n",
    "# nltk\n",
    "import nltk\n",
    "nltk.download('punkt')\n",
    "nltk.download('stopwords')\n",
    "from sklearn.model_selection import train_test_split #particiones\n",
    "from nltk.corpus import stopwords #Listas de stopwords\n",
    "from nltk.tokenize import word_tokenize, sent_tokenize #Tokens\n",
    "import re #regex\n",
    "from itertools import chain #bigramas\n",
    "import numpy as np\n",
    "from sklearn.decomposition import PCA\n",
    "from operator import itemgetter\n",
    "\n",
    "import pickle"
   ]
  },
  {
   "cell_type": "markdown",
   "metadata": {},
   "source": [
    "## Limpiamos y tokenizamos\n",
    "(Tomamos el código de la práctica anterior)\n",
    "\n",
    "Tokenizamos por palabra, ya que nos interesa medir la probabilidad de transitar de una palabra a otra y no por subpalabras, para intentar, más adelante, responder con una oración dada una entrada."
   ]
  },
  {
   "cell_type": "code",
   "execution_count": null,
   "metadata": {},
   "outputs": [],
   "source": [
    "def get_txt(path):\n",
    "    \"\"\"\n",
    "    Regresa una lista con el contenido de todos los archivos de un directorio\n",
    "\n",
    "    Args:\n",
    "        path (str): ruta de la carpeta\n",
    "    \"\"\"\n",
    "    text = []\n",
    "    onlyfiles = [f for f in listdir(path) if isfile(join(path, f))]\n",
    "    \n",
    "    for file in onlyfiles:\n",
    "        with open(path+\"/\"+file, 'rb') as f:\n",
    "            text.append(f.read().decode('utf-8', 'replace'))\n",
    "    return text\n",
    "\n",
    "# Guardamos cada película en un diccionario\n",
    "# cada entrada del diccionario es una lista con las peliculas leídas\n",
    "movies = {}\n",
    "movies[\"Pride & Prejudice\"] = get_txt(\"../corpus/Pride & Prejudice\")\n",
    "movies[\"Marvel\"] = get_txt(\"../corpus/Marvel\")\n",
    "movies[\"Christopher Nolan\"] = get_txt(\"../corpus/Christopher Nolan\")"
   ]
  },
  {
   "cell_type": "code",
   "execution_count": null,
   "metadata": {},
   "outputs": [],
   "source": [
    "# tokens que necesitan ser limpiados del corpus y que no\n",
    "# se encuentran en la lista de stopwords\n",
    "more = [\"_\",\"-\",\"'ve\", \"'ll\", \"'t\", \"'s\", \"'re\", \"'\", \"'m\", \"'d\", \"n't\", \"oh\", \"hey\", \"yeah\",\"okay\", \"mr.\", \"miss\", \"mrs.\"]\n",
    "stopwords_list = stopwords.words('english') + more\n",
    "\n",
    "def get_tokens_clean(text):\n",
    "    '''\n",
    "    Genera los tokens de una cadena y los limpia\n",
    "    (quita símbolos raros y stopwords)\n",
    "    \n",
    "    Args:\n",
    "        text (str): cadena\n",
    "    '''\n",
    "    tokens = word_tokenize(text)\n",
    "    clean = []\n",
    "    pattern = r'[^a-z0-9\\s]'\n",
    "    for w in tokens:\n",
    "        #quita stopwords y convierte a minúsculas\n",
    "        w = re.sub(pattern,'', w.lower())\n",
    "        if w not in stopwords_list and w != '':\n",
    "            if  w == \"na\": #Para juntar gon na, wan na, etc.\n",
    "                clean[-1] += w\n",
    "            else:\n",
    "                clean.append(w)\n",
    "\n",
    "    return clean"
   ]
  },
  {
   "cell_type": "code",
   "execution_count": null,
   "metadata": {},
   "outputs": [],
   "source": [
    "def merge_movies(col):\n",
    "    '''\n",
    "    Mezcla el corpus de cada película en una entrada del\n",
    "    diccionario movies en un solo corpus, \n",
    "    guarda los diálogos por línea tokenizados y limpios\n",
    "\n",
    "    Args:\n",
    "        col (dic): Diccionario con los diálogos\n",
    "    '''\n",
    "    corpus = []\n",
    "    #Iteramos sobre las películas\n",
    "    for movie in col:\n",
    "        print(movie, len(movies[movie]))\n",
    "        for text in movies[movie]:\n",
    "            #Cada texto se guarda por oraciones (contexto)\n",
    "            corpus += [get_tokens_clean(s) for s in sent_tokenize(text)]\n",
    "    return corpus\n",
    "\n",
    "all_movies = merge_movies(movies)"
   ]
  },
  {
   "cell_type": "code",
   "execution_count": null,
   "metadata": {},
   "outputs": [],
   "source": [
    "#Particiones train, test (30%), val (10%)\n",
    "#train_aux, test = train_test_split(all_movies, test_size=0.3)\n",
    "train, test = train_test_split(all_movies, test_size=0.3)\n",
    "print('Número de cadenas train:',len(train))\n",
    "print('Número de cadenas test:',len(test))\n",
    "#Falta hacer algo con las palabras fuera del vocabulario"
   ]
  },
  {
   "cell_type": "markdown",
   "metadata": {},
   "source": [
    "Quitamos las hápax: palabras que solo aparecen una vez en el corpus"
   ]
  },
  {
   "cell_type": "code",
   "execution_count": null,
   "metadata": {},
   "outputs": [],
   "source": [
    "def delete_hapax(corpus):\n",
    "    new_corpus = []\n",
    "    frequences = Counter( chain(*[sentence for sentence in corpus]) )\n",
    "    for sentence in corpus:\n",
    "      new_sent = []\n",
    "      for word in sentence:\n",
    "        new_sent.append(\n",
    "          '<oov>' if frequences[word] == 1 else word\n",
    "        )\n",
    "      new_corpus.append(new_sent)\n",
    "    return new_corpus\n",
    "\n",
    "all_movies = delete_hapax(all_movies)"
   ]
  },
  {
   "cell_type": "markdown",
   "metadata": {},
   "source": [
    "## Vocabulario (indexado)\n",
    "Obtenemos los pares de entrenamiento a partir de contextos, bigramas."
   ]
  },
  {
   "cell_type": "code",
   "execution_count": null,
   "metadata": {},
   "outputs": [],
   "source": []
  },
  {
   "cell_type": "code",
   "execution_count": null,
   "metadata": {},
   "outputs": [],
   "source": [
    "def get_words_and_indexes(corpus):\n",
    "    # indices para cada palabra\n",
    "    words_to_index = list(Counter( chain(*[sentence for sentence in corpus]) ).keys())\n",
    "    # Agregamos etiquetas de inicio y fin al diccionario\n",
    "    words_to_index.append('<BOS>')\n",
    "    words_to_index.append('<EOS>')\n",
    "\n",
    "    words_to_index = dict(zip(words_to_index, range(0, len(words_to_index) - 1)))\n",
    "    \n",
    "    # A cada línea de los diálogos se le agrega la etiqueta BOS al inicio y EOS al final\n",
    "    new_corpus = [[len(words_to_index) - 2] + [words_to_index[t] for t in text] + [len(words_to_index) - 1] for text in corpus]\n",
    "    # Se crean los bigramas\n",
    "    \n",
    "    return words_to_index, new_corpus\n",
    "\n",
    "def get_bigrams(corpus):\n",
    "    bigrams = list(chain(*[zip(cad,cad[1:]) for cad in corpus]))\n",
    "    return bigrams\n",
    "\n",
    "# diccionario completo\n",
    "word_to_index, new_corpus = get_words_and_indexes(all_movies)\n",
    "\n",
    "# separamos en corpus de train y test\n",
    "train, test = train_test_split(new_corpus, test_size=0.3)\n",
    "\n",
    "# obtenemos bigramas\n",
    "bigrams_train = get_bigrams(train)\n",
    "bigrams_test = get_bigrams(test)\n",
    "\n",
    "print('Bigramas de train: {}'.format(len(bigrams_train)))\n",
    "print('Bigramas de test: {}'.format(len(bigrams_test)))"
   ]
  },
  {
   "cell_type": "markdown",
   "metadata": {},
   "source": [
    "# Red de Bengios\n",
    "\n",
    "Red propuesta por Bengios, de tipo FeedForward con una arquitectura constituida por:\n",
    " - Una capa de embedding (representación númerica de las palabras)\n",
    " - Una capa oculta con activación tanh\n",
    " - Una capa de salida con activación Softmax para obtener las probabilidades de transición.\n",
    "\n",
    "<p align=\"center\">\n",
    "  <img src=\"img/RedBengio.png\" alt=\"Red Bengio\"/>\n",
    "</p>\n"
   ]
  },
  {
   "cell_type": "code",
   "execution_count": null,
   "metadata": {},
   "outputs": [],
   "source": [
    "class Bengio:\n",
    "    def __init__(self, bigrams, voc, dim, nn_hdim):\n",
    "        np.random.seed(0)\n",
    "        self.bigrams = bigrams\n",
    "        self.voc = voc\n",
    "        # unidades de la capa oculta\n",
    "        self.dim = dim\n",
    "        # unidades de la segunda capa\n",
    "        self.nn_hdim = nn_hdim\n",
    "        N = len(voc)\n",
    "        #Embedding (este vector se guarda para la siguiente tarea)\n",
    "        self.C = np.random.randn(dim, N) / np.sqrt(N)\n",
    "        #U (a |V | × h matrix) - hidden-to-output weights\n",
    "        self.U = np.random.randn(nn_hdim, dim) / np.sqrt(dim)\n",
    "        self.b = np.zeros((1, self.nn_hdim)) #bias\n",
    "        # W (a |V | × (n − 1)m matrix) word features to output weights\n",
    "        self.W = np.random.randn(N, nn_hdim) / np.sqrt(nn_hdim)\n",
    "        self.c = np.zeros((1, N))\n",
    "    \n",
    "    def train(self, its, eta):\n",
    "        for i in range(0,its):\n",
    "            print('train {}'.format(i))\n",
    "            for ex in self.bigrams:\n",
    "                #Forward\n",
    "                f, a = self.forward(ex[0])\n",
    "                #Backward, pasos descritos en el paper\n",
    "                #Variable de salida, (a).1\n",
    "                d_out = f\n",
    "                d_out[ex[1]] -= 1\n",
    "                #Variable para la capa oculta\n",
    "                d_tanh = (1-a**2)*np.dot(self.W.T,d_out)\n",
    "                #Variable de embedding\n",
    "                d_emb = np.dot(self.U.T, d_tanh)\n",
    "                #Actualizacion de salida\n",
    "                self.W -= eta*np.outer(d_out,a)\n",
    "                #Actualiza bias de salida\n",
    "                self.c -= eta*d_out #[j]\n",
    "                #Actualizacion de capa oculta\n",
    "                self.U -= eta*np.outer(d_tanh,self.C.T[ex[0]])\n",
    "                #Actualiza bias\n",
    "                self.b -= eta*d_tanh\n",
    "                #Actualizacion de embedding\n",
    "                self.C.T[ex[0]] -= eta*d_emb\n",
    "\n",
    "    def forward(self, x):    \n",
    "        #Embedimiento\n",
    "        x = self.C.T[x] #x(k) ← C(wt−k)\n",
    "        #capa oculta\n",
    "        #a ← tanh(Hx + d)\n",
    "        a = np.tanh(np.dot(self.U, x) + self.b)[0]\n",
    "        #salida\n",
    "        # p_j ← e**(a.U + b_j) \n",
    "        # if (direct connections) e**(e**(a.U + b_j) + x.W_j)\n",
    "        out = np.exp(np.dot(self.W, a) + self.c)[0]\n",
    "        #Softmax\n",
    "        # Normalize the probabilities\n",
    "        self.p = out/out.sum(0)\n",
    "        return self.p, a\n",
    "\n",
    "    def plot_words(self, ids):\n",
    "        Z = self.C.T[:-2]\n",
    "        Z = PCA(2).fit_transform(Z)\n",
    "        r=0\n",
    "        plt.scatter(Z[:,0],Z[:,1], marker='o', c='blue')\n",
    "        for label,x,y in zip(ids, Z[:,0], Z[:,1]):\n",
    "            plt.annotate(label, xy=(x,y), xytext=(-1,1), \n",
    "                         textcoords='offset points', \n",
    "                         ha='center', va='bottom')\n",
    "            r+=1\n",
    "        plt.show()\n",
    "\n",
    "    def prob_sentence(self, sentence):\n",
    "        #Obtenemos los bigramas de la cadena de evaluacion\n",
    "        bigrams = list(zip(sentence,sentence[1:]))\n",
    "        \n",
    "        #Guardamos la probabilidad inicial dado el modelo\n",
    "        p_i, _ = self.forward(sentence[0])\n",
    "        try:\n",
    "            p = p_i[sentence[1]]\n",
    "        except:\n",
    "            p = p_i[word_to_index['<oov>']]\n",
    "        #Multiplicamos por las probabilidades de los bigramas dado el modelo\n",
    "        for gram1, gram2 in bigrams:\n",
    "            #Obtiene las probabilidades de transición\n",
    "            try:\n",
    "                prev_prob = self.forward(gram1)[0]\n",
    "            except:\n",
    "                prev_prob = self.forward(word_to_index['<oov>'])[0]\n",
    "\n",
    "            try:\n",
    "                p *= prev_prob[gram2]\n",
    "            except:\n",
    "                p *= prev_prob[word_to_index['<oov>']]\n",
    "                \n",
    "        return p \n",
    "\n",
    "    def get_entropy(self, test_data):\n",
    "        H = 0.0\n",
    "        # calculamos entropia como el promedio de las probabilidades de cada oracion\n",
    "        for sentence in test_data:\n",
    "            #Probabilidad de la cadena\n",
    "            p_cad = self.prob_sentence(sentence)\n",
    "            #Longitud de la cadena\n",
    "            M = len(sentence)\n",
    "            #Obtenemos la entropía cruzada de la cadena\n",
    "            if p_cad == 0:\n",
    "                pass\n",
    "            else:\n",
    "                H -= (1./M)*(np.log(p_cad)/np.log(2))\n",
    "                \n",
    "        H = H/len(test_data)\n",
    "\n",
    "        return H\n",
    "    \n",
    "    def test(self, test):\n",
    "        entropy = self.get_entropy(test)\n",
    "        perplexity = 2**entropy\n",
    "        return entropy, perplexity\n",
    "\n",
    "    def save_embedings(self):\n",
    "        embedings = {}\n",
    "        for word in self.voc.keys():\n",
    "            embedings[word] = self.C.T[self.voc[word]]\n",
    "\n",
    "        pickle.dump(embedings, open('embedings.pkl', 'wb'))\n",
    "\n",
    "    def save_model(self):\n",
    "        pickle.dump(self, open('model.pkl', 'wb'))"
   ]
  },
  {
   "cell_type": "markdown",
   "metadata": {},
   "source": [
    "## Pruebas conjunto de Validación"
   ]
  },
  {
   "cell_type": "code",
   "execution_count": null,
   "metadata": {},
   "outputs": [],
   "source": [
    "bengio = Bengio(bigrams_train[:100], word_to_index, 254, 128)\n",
    "bengio.train(10, 0.1)"
   ]
  },
  {
   "cell_type": "code",
   "execution_count": null,
   "metadata": {},
   "outputs": [],
   "source": [
    "label = [w[0] for w in sorted(list(word_to_index.items())[:100], key=itemgetter(1))]\n",
    "bengio.plot_words(label)"
   ]
  },
  {
   "cell_type": "markdown",
   "metadata": {},
   "source": [
    "Evaluamos el modelo"
   ]
  },
  {
   "cell_type": "code",
   "execution_count": null,
   "metadata": {},
   "outputs": [],
   "source": [
    "entropy, perplexity =  bengio.test(test[:1000])\n",
    "print('Entropy: {}'.format(entropy))\n",
    "print('Perplexity: {}'.format(perplexity))"
   ]
  },
  {
   "cell_type": "markdown",
   "metadata": {},
   "source": [
    "Guardamos los embedings"
   ]
  },
  {
   "cell_type": "code",
   "execution_count": null,
   "metadata": {},
   "outputs": [],
   "source": [
    "bengio.save_embedings()"
   ]
  },
  {
   "cell_type": "code",
   "execution_count": null,
   "metadata": {},
   "outputs": [],
   "source": [
    "def recover_embedings():\n",
    "    embedings = pickle.load(open('./embedings.pkl', 'rb'))\n",
    "    return embedings\n",
    "\n",
    "embedings = recover_embedings()\n",
    "print(embedings['stephen'])"
   ]
  },
  {
   "cell_type": "markdown",
   "metadata": {},
   "source": [
    "Guardamos la red"
   ]
  },
  {
   "cell_type": "code",
   "execution_count": null,
   "metadata": {},
   "outputs": [],
   "source": [
    "bengio.save_model()"
   ]
  },
  {
   "cell_type": "code",
   "execution_count": null,
   "metadata": {},
   "outputs": [],
   "source": [
    "bengio_new = pickle.load(open('./model.pkl', 'rb'))\n",
    "\n",
    "entropy, perplexity =  bengio.test(test[:1000])\n",
    "print('Entropy: {}'.format(entropy))\n",
    "print('Perplexity: {}'.format(perplexity))"
   ]
  }
 ],
 "metadata": {
  "interpreter": {
   "hash": "602bbe8e8fe3127dc2d2bb8f57c49cfbb507be2cc0e090f10eb4c4d0af354b8b"
  },
  "kernelspec": {
   "display_name": "Python 3.10.4 64-bit (windows store)",
   "language": "python",
   "name": "python3"
  },
  "language_info": {
   "codemirror_mode": {
    "name": "ipython",
    "version": 3
   },
   "file_extension": ".py",
   "mimetype": "text/x-python",
   "name": "python",
   "nbconvert_exporter": "python",
   "pygments_lexer": "ipython3",
   "version": "3.10.4"
  },
  "orig_nbformat": 4
 },
 "nbformat": 4,
 "nbformat_minor": 2
}
