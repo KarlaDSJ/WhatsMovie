{
 "cells": [
  {
   "cell_type": "code",
   "execution_count": 2,
   "metadata": {},
   "outputs": [
    {
     "name": "stderr",
     "output_type": "stream",
     "text": [
      "[nltk_data] Downloading package punkt to\n",
      "[nltk_data]     C:\\Users\\danie\\AppData\\Roaming\\nltk_data...\n",
      "[nltk_data]   Package punkt is already up-to-date!\n",
      "[nltk_data] Downloading package stopwords to\n",
      "[nltk_data]     C:\\Users\\danie\\AppData\\Roaming\\nltk_data...\n",
      "[nltk_data]   Package stopwords is already up-to-date!\n"
     ]
    }
   ],
   "source": [
    "#Autores: Daniel Castillo, Karla Salas\n",
    "from os import listdir\n",
    "from os.path import isfile, join\n",
    "#Para ver las palabras\n",
    "from collections import Counter\n",
    "import matplotlib.pyplot as plt\n",
    "from wordcloud import WordCloud\n",
    "# nltk\n",
    "import nltk\n",
    "nltk.download('punkt')\n",
    "nltk.download('stopwords')\n",
    "from sklearn.model_selection import train_test_split #particiones\n",
    "from nltk.corpus import stopwords #Listas de stopwords\n",
    "from nltk.tokenize import word_tokenize #Tokens\n",
    "import re #regex\n",
    "from itertools import chain #bigramas\n",
    "import numpy as np\n",
    "from scipy.special import expit as activation_function\n",
    "from scipy.stats import truncnorm\n",
    "from sklearn.decomposition import PCA\n",
    "from operator import itemgetter"
   ]
  },
  {
   "cell_type": "markdown",
   "metadata": {},
   "source": [
    "## Limpiamos y tokenizamos\n",
    "(Tomamos el código de la práctica anterior)\n",
    "\n",
    "Tokenizamos por palabra, ya que nos interesa medir la probabilidad de transitar de una palabra a otra y no por subpalabras, para intentar, más adelante, responder con una oración dada una entrada."
   ]
  },
  {
   "cell_type": "code",
   "execution_count": 3,
   "metadata": {},
   "outputs": [],
   "source": [
    "def get_txt(path):\n",
    "    \"\"\"\n",
    "    Regresa una lista con el contenido de todos los archivos de un directorio\n",
    "\n",
    "    Args:\n",
    "        path (str): ruta de la carpeta\n",
    "    \"\"\"\n",
    "    text = []\n",
    "    onlyfiles = [f for f in listdir(path) if isfile(join(path, f))]\n",
    "    \n",
    "    for file in onlyfiles:\n",
    "         with open(path+\"/\"+file, 'rb') as f:\n",
    "            text.append(f.read().decode('utf-8', 'replace'))\n",
    "    return text\n",
    "\n",
    "# Guardamos cada película en un diccionario\n",
    "# cada entrada del diccionario es una lista con las peliculas leídas\n",
    "movies = {}\n",
    "movies[\"Pride & Prejudice\"] = get_txt(\"../corpus/Pride & Prejudice\")\n",
    "movies[\"Marvel\"] = get_txt(\"../corpus/Marvel\")\n",
    "movies[\"Christopher Nolan\"] = get_txt(\"../corpus/Christopher Nolan\")"
   ]
  },
  {
   "cell_type": "code",
   "execution_count": 4,
   "metadata": {},
   "outputs": [],
   "source": [
    "# tokens que necesitan ser limpiados del corpus y que no\n",
    "# se encuentran en la lista de stopwords\n",
    "more = [\"_\",\"-\",\"'ve\", \"'ll\", \"'t\", \"'s\", \"'re\", \"'\", \"'m\", \"'d\", \"n't\", \"oh\", \"hey\", \"yeah\",\"okay\", \"mr.\", \"miss\", \"mrs.\"]\n",
    "stopwords_list = stopwords.words('english') + more\n",
    "\n",
    "def get_tokens_clean(text):\n",
    "    '''\n",
    "    Genera los tokens de una cadena y los limpia\n",
    "    (quita símbolos raros y stopwords)\n",
    "    \n",
    "    Args:\n",
    "        text (str): cadena\n",
    "    '''\n",
    "    tokens = word_tokenize(text)\n",
    "    clean = []\n",
    "    pattern = r'[^a-z0-9\\s]'\n",
    "    for w in tokens:\n",
    "        #quita stopwords y convierte a minúsculas\n",
    "        w = re.sub(pattern,'', w.lower())\n",
    "        if w not in stopwords_list and w != '':\n",
    "            if  w == \"na\": #Para juntar gon na, wan na, etc.\n",
    "                clean[-1] += w\n",
    "            else:\n",
    "                clean.append(w)\n",
    "\n",
    "    return clean"
   ]
  },
  {
   "cell_type": "code",
   "execution_count": 5,
   "metadata": {},
   "outputs": [
    {
     "name": "stdout",
     "output_type": "stream",
     "text": [
      "Pride & Prejudice 1\n",
      "Marvel 23\n",
      "Christopher Nolan 5\n"
     ]
    }
   ],
   "source": [
    "def merge_movies(col):\n",
    "    '''\n",
    "    Mezcla el corpus de cada película en una entrada del\n",
    "    diccionario movies en un solo corpus, \n",
    "    guarda los diálogos por línea tokenizados y limpios\n",
    "\n",
    "    Args:\n",
    "        col (dic): Diccionario con los diálogos\n",
    "    '''\n",
    "    corpus = []\n",
    "    #Iteramos sobre las películas\n",
    "    for movie in col:\n",
    "        print(movie, len(movies[movie]))\n",
    "        for text in movies[movie]:\n",
    "            #Cada texto se guarda por línea (contexto)\n",
    "            #Quitamos líneas vacías\n",
    "            corpus += map(get_tokens_clean, list(filter(bool, text.split('\\n'))))\n",
    "    return corpus\n",
    "\n",
    "all_movies = merge_movies(movies)"
   ]
  },
  {
   "cell_type": "code",
   "execution_count": 6,
   "metadata": {},
   "outputs": [
    {
     "name": "stdout",
     "output_type": "stream",
     "text": [
      "Número de cadenas train: 39846\n",
      "Número de cadenas test: 17078\n"
     ]
    }
   ],
   "source": [
    "#Particiones train y test (30%)\n",
    "train, test = train_test_split(all_movies, test_size=0.3)\n",
    "print('Número de cadenas train:',len(train))\n",
    "print('Número de cadenas test:',len(test))\n",
    "#Falta hacer algo con las palabras fuera del vocabulario"
   ]
  },
  {
   "cell_type": "code",
   "execution_count": null,
   "metadata": {},
   "outputs": [],
   "source": [
    "train"
   ]
  },
  {
   "cell_type": "markdown",
   "metadata": {},
   "source": [
    "Quitamos las hápax: palabras que solo aparecen una vez en el corpus"
   ]
  },
  {
   "cell_type": "code",
   "execution_count": 7,
   "metadata": {},
   "outputs": [],
   "source": [
    "def delete_hapax(corpus):\n",
    "  new_corpus = []\n",
    "  frequences = Counter( chain(*[sentence for sentence in corpus]) )\n",
    "  for sentence in corpus:\n",
    "    new_sent = []\n",
    "    for word in sentence:\n",
    "      new_sent.append(\n",
    "        '<oov>' if frequences[word] == 1 else word\n",
    "      )\n",
    "    new_corpus.append(new_sent)\n",
    "  return new_corpus\n",
    "\n",
    "train_hapax = delete_hapax(train)"
   ]
  },
  {
   "cell_type": "markdown",
   "metadata": {},
   "source": [
    "## Vocabulario (indexado)\n",
    "Obtenemos los pares de entrenamiento a partir de contextos, bigramas."
   ]
  },
  {
   "cell_type": "code",
   "execution_count": 8,
   "metadata": {},
   "outputs": [
    {
     "name": "stdout",
     "output_type": "stream",
     "text": [
      "166012\n",
      "14027\n"
     ]
    }
   ],
   "source": [
    "def get_words_and_indexes(corpus):\n",
    "    # indices para cada palabra\n",
    "    words_to_index = list(Counter( chain(*[sentence for sentence in corpus]) ).keys())\n",
    "    # Agregamos etiquetas de inicio y fin al diccionario\n",
    "    words_to_index.append('<BOS>')\n",
    "    words_to_index.append('<EOS>')\n",
    "\n",
    "    words_to_index = dict(zip(words_to_index, range(0, len(words_to_index) - 1)))\n",
    "    \n",
    "    # A cada línea de los diálogos se le agrega la etiqueta BOS al inicio y EOS al final\n",
    "    new_corpus = [[len(words_to_index) - 2] + [words_to_index[t] for t in text] + [len(words_to_index) - 1] for text in train]\n",
    "    # Se crean los bigramas\n",
    "    bigrams = list(chain(*[zip(cad,cad[1:]) for cad in new_corpus]))\n",
    "    return words_to_index, bigrams, new_corpus\n",
    "\n",
    "word_to_index, bigrams, new_corpus = get_words_and_indexes(train)\n",
    "print(len(bigrams))\n",
    "print(len(word_to_index))\n"
   ]
  },
  {
   "cell_type": "markdown",
   "metadata": {},
   "source": [
    "# Red Neuronal"
   ]
  },
  {
   "cell_type": "markdown",
   "metadata": {},
   "source": [
    "Preparamos los parámetros"
   ]
  },
  {
   "cell_type": "code",
   "execution_count": 85,
   "metadata": {},
   "outputs": [],
   "source": [
    "class Bengio:\n",
    "    def __init__(self, input_dim, output_dim, num_examples):\n",
    "        np.random.seed(0)\n",
    "        #El número de rasgos que representan cada vector\n",
    "        self.input_dim = input_dim\n",
    "        #El total de clases que arrojará\n",
    "        self.output_dim = output_dim\n",
    "        #El número de ejemplos\n",
    "        self.num_examples = num_examples\n",
    "\n",
    "        #Dimensiones de los vectores-palabra\n",
    "        # 128 para el hiperparametro\n",
    "        dim = 128\n",
    "        # 254 para la siguiente capa\n",
    "        nn_hdim = 254\n",
    "\n",
    "        #Embedding\n",
    "        self.C = np.random.randn(dim, input_dim) / np.sqrt(input_dim)\n",
    "\n",
    "        #Capa oculta\n",
    "        self.U = np.random.randn(nn_hdim, dim) / np.sqrt(dim)\n",
    "        self.b = np.zeros((1, nn_hdim))\n",
    "\n",
    "        #Capa de salida\n",
    "        self.W = np.random.randn(input_dim-1, nn_hdim) / np.sqrt(nn_hdim)\n",
    "        self.c = np.zeros((1, input_dim-1))\n",
    "    \n",
    "    def train(self, bigrams):\n",
    "        its = 10\n",
    "        eta = 0.1\n",
    "        for i in range(0,its):\n",
    "            print('train {}'.format(i))\n",
    "            for ex in bigrams:\n",
    "                #Forward\n",
    "                #Embedimiento\n",
    "                c_w = self.C.T[ex[0]]\n",
    "                #capa oculta\n",
    "                h1 = np.tanh(np.dot(self.U,c_w) + self.b)[0]\n",
    "                #salida\n",
    "                out = np.exp(np.dot(self.W,h1) + self.c)[0]\n",
    "                #Softmax\n",
    "                f = out/out.sum(0)\n",
    "\n",
    "                #Backprop\n",
    "                #Variable de salida\n",
    "                d_out = f\n",
    "                d_out[ex[1]] -= 1\n",
    "                \n",
    "                #Variable para la capa oculta\n",
    "                d_tanh = (1-h1**2)*np.dot(self.W.T,d_out)\n",
    "                \n",
    "                #Variable de embedding\n",
    "                d_emb = np.dot(self.U.T, d_tanh)\n",
    "\n",
    "                #Actualizacion de salida\n",
    "                self.W -= eta*np.outer(d_out,h1)\n",
    "                #Actualiza bias de salida\n",
    "                self.c -= eta*d_out #[j]\n",
    "\n",
    "                #Actualizacion de capa oculta\n",
    "                self.U -= eta*np.outer(d_tanh,c_w)\n",
    "                #Actualiza bias\n",
    "                self.b -= eta*d_tanh\n",
    "\n",
    "                #Actualizacion de embedding\n",
    "                self.C.T[ex[0]] -= eta*d_emb\n",
    "\n",
    "    def forward(self, x):    \n",
    "        #Embedimiento\n",
    "        c_w = self.C.T[x]\n",
    "        #print c_w.shape, U.T.shape\n",
    "        h1 = np.tanh(np.dot(self.U, c_w) + self.b)[0]\n",
    "        #print h1 #W.shape, h1.shape\n",
    "        out = np.exp(np.dot(self.W, h1) + self.c)[0]\n",
    "        #print out\n",
    "        self.p = out/out.sum(0)\n",
    "        return self.p\n",
    "\n",
    "    def plot_words(self, ids):\n",
    "        Z = self.C.T[:-2]\n",
    "        Z = PCA(2).fit_transform(Z)\n",
    "        r=0\n",
    "        plt.scatter(Z[:,0],Z[:,1], marker='o', c='blue')\n",
    "        for label,x,y in zip(ids, Z[:,0], Z[:,1]):\n",
    "            plt.annotate(label, xy=(x,y), xytext=(-1,1), textcoords='offset points', ha='center', va='bottom')\n",
    "            r+=1\n",
    "        plt.show()\n",
    "\n",
    "    def get_entropy2(self, test_data):\n",
    "        #Inicialización Entropía\n",
    "        H = 0.0\n",
    "        Hs = []\n",
    "\n",
    "        #Evaluamos en el corpus de evaluación\n",
    "        for sentence in test_data:\n",
    "            # Número de palabras\n",
    "            M = len(sentence)\n",
    "            H_sentence = 0.0\n",
    "            for cad in sentence:\n",
    "                # Probabilidad de la cadena\n",
    "                H_sentence += np.log2(self.forward(word_to_index[cad]))\n",
    "                \n",
    "            Hs.append(H_sentence * 1/(-M+1e-100))\n",
    "            #Obtenemos la entropía cruzada de la cadena\n",
    "            H += H_sentence * 1/(-M+1e-100)\n",
    "\n",
    "        return H/len(test_data), Hs\n",
    "\n",
    "    def test(self):\n",
    "        big_entropy = []\n",
    "\n",
    "        for k in range(1,200):\n",
    "            #Parámetro\n",
    "            par = k/100\n",
    "            #Entropía del modelo de 2-gramas\n",
    "            ent2 = self.__get_entropy(self.__get_model(new_corpus, n=2, l=par))\n",
    "            \n",
    "            big_entropy.append([par, ent2])\n",
    "        \n",
    "        big_entropy = np.array(big_entropy)\n",
    "\n",
    "        #Visualización del modelo\n",
    "        plt.scatter(big_entropy[:,0], big_entropy[:,1], color='g', s=4, label='Bigram model')\n",
    "        plt.legend(bbox_to_anchor=(1, 1))\n",
    "        plt.show()\n",
    "    \n",
    "    def test2(self, test):\n",
    "        entropy, entropies = self.get_entropy2(test)\n",
    "        #Visualización del modelo\n",
    "        plt.scatter(entropies, entropies, color='g', s=4, label='Bigram model')\n",
    "        plt.legend(bbox_to_anchor=(1, 1))\n",
    "        plt.show()\n",
    "\n"
   ]
  },
  {
   "cell_type": "code",
   "execution_count": 86,
   "metadata": {},
   "outputs": [
    {
     "name": "stdout",
     "output_type": "stream",
     "text": [
      "train 0\n",
      "train 1\n",
      "train 2\n",
      "train 3\n",
      "train 4\n",
      "train 5\n",
      "train 6\n",
      "train 7\n",
      "train 8\n",
      "train 9\n",
      "0.12184063016233528\n"
     ]
    }
   ],
   "source": [
    "bengio = Bengio(len(word_to_index) + 1, len(word_to_index) + 1, len(bigrams))\n",
    "bengio.train(bigrams[:100])\n",
    "print(bengio.forward(word_to_index['stephen'])[word_to_index['strange']])"
   ]
  },
  {
   "cell_type": "code",
   "execution_count": 54,
   "metadata": {},
   "outputs": [
    {
     "data": {
      "image/png": "[encoded data removed]",
      "text/plain": [
       "<Figure size 432x288 with 1 Axes>"
      ]
     },
     "metadata": {
      "needs_background": "light"
     },
     "output_type": "display_data"
    }
   ],
   "source": [
    "label = [w[0] for w in sorted(list(word_to_index.items())[:5], key=itemgetter(1))]\n",
    "bengio.plot_words(label)"
   ]
  },
  {
   "cell_type": "markdown",
   "metadata": {},
   "source": [
    "Calculamos la entropia"
   ]
  },
  {
   "cell_type": "code",
   "execution_count": 87,
   "metadata": {},
   "outputs": [
    {
     "data": {
      "image/png": "[encoded data removed]",
      "text/plain": [
       "<Figure size 432x288 with 1 Axes>"
      ]
     },
     "metadata": {
      "needs_background": "light"
     },
     "output_type": "display_data"
    }
   ],
   "source": [
    "bengio.test2(train[:5])"
   ]
  }
 ],
 "metadata": {
  "interpreter": {
   "hash": "602bbe8e8fe3127dc2d2bb8f57c49cfbb507be2cc0e090f10eb4c4d0af354b8b"
  },
  "kernelspec": {
   "display_name": "Python 3.10.4 64-bit (windows store)",
   "language": "python",
   "name": "python3"
  },
  "language_info": {
   "codemirror_mode": {
    "name": "ipython",
    "version": 3
   },
   "file_extension": ".py",
   "mimetype": "text/x-python",
   "name": "python",
   "nbconvert_exporter": "python",
   "pygments_lexer": "ipython3",
   "version": "3.10.4"
  },
  "orig_nbformat": 4
 },
 "nbformat": 4,
 "nbformat_minor": 2
}
